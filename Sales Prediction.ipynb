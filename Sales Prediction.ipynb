{
 "cells": [
  {
   "cell_type": "markdown",
   "metadata": {},
   "source": [
    " ## Product Sales Forecasting"
   ]
  },
  {
   "cell_type": "markdown",
   "metadata": {},
   "source": [
    "### Problem Statement:\n",
    "- In the competitive retail industry, the ability to predict future sales accurately is crucial for operational and strategic planning. Product sales forecasting aims to estimate the number of products a store will sell in the future, based on various influencing factors such as store type, location, regional characteristics, promotional activities, and temporal variations (such as holidays and seasons).\n",
    "- This project focuses on developing a predictive model that uses historical sales data from different stores to forecast sales for upcoming periods."
   ]
  },
  {
   "cell_type": "markdown",
   "metadata": {},
   "source": [
    "### Data Dictionary:\n",
    "- ID: Unique identifier for each record in the dataset.\n",
    "- Store_id: Unique identifier for each store.\n",
    "- Store_Type: Categorization of the store based on its type.\n",
    "- Location_Type: Classification of the store's location (e.g., urban, suburban).\n",
    "- Region_Code: Code representing the geographical region where the store is located.\n",
    "- Date: The specific date on which the data was recorded.\n",
    "- Holiday: Indicator of whether the date was a holiday (1: Yes, 0: No).\n",
    "- Discount: Indicates whether a discount was offered on the given date (Yes/No).\n",
    "- Order: The number of orders received by the store on the specified day.\n",
    "- Sales: Total sales amount for the store on the given day.\n"
   ]
  },
  {
   "cell_type": "code",
   "execution_count": 1,
   "metadata": {
    "id": "Gwfj7WGRZb2R"
   },
   "outputs": [],
   "source": [
    "import numpy as np\n",
    "import pandas as pd\n",
    "import matplotlib.pyplot as plt\n",
    "import seaborn as sns\n",
    "import datetime as dt\n",
    "\n",
    "import warnings # supress warnings\n",
    "warnings.filterwarnings('ignore')"
   ]
  },
  {
   "cell_type": "code",
   "execution_count": 2,
   "metadata": {
    "id": "pVq2GH6Wac_0"
   },
   "outputs": [],
   "source": [
    "#importing data \n",
    "train_df = pd.read_csv('D:/Scaler/csv/Project/TRAIN.csv')\n",
    "test_df = pd.read_csv('D:/Scaler/csv/Project/TEST_FINAL.csv')\n",
    "test_df_cpy = test_df.copy()"
   ]
  },
  {
   "cell_type": "code",
   "execution_count": 3,
   "metadata": {
    "colab": {
     "base_uri": "https://localhost:8080/",
     "height": 415
    },
    "executionInfo": {
     "elapsed": 33,
     "status": "ok",
     "timestamp": 1632049458037,
     "user": {
      "displayName": "Vineet Patel",
      "photoUrl": "https://lh3.googleusercontent.com/a-/AOh14Gg3orwxVwccrueaulqw9L98IBqGvNH1nEwdwiUP0Q=s64",
      "userId": "07760585287432952056"
     },
     "user_tz": -330
    },
    "id": "Mq0nukx3a38R",
    "outputId": "e9fae610-ef58-4a84-8faa-76e87b3a1cbd"
   },
   "outputs": [
    {
     "data": {
      "text/html": [
       "<div>\n",
       "<style scoped>\n",
       "    .dataframe tbody tr th:only-of-type {\n",
       "        vertical-align: middle;\n",
       "    }\n",
       "\n",
       "    .dataframe tbody tr th {\n",
       "        vertical-align: top;\n",
       "    }\n",
       "\n",
       "    .dataframe thead th {\n",
       "        text-align: right;\n",
       "    }\n",
       "</style>\n",
       "<table border=\"1\" class=\"dataframe\">\n",
       "  <thead>\n",
       "    <tr style=\"text-align: right;\">\n",
       "      <th></th>\n",
       "      <th>ID</th>\n",
       "      <th>Store_id</th>\n",
       "      <th>Store_Type</th>\n",
       "      <th>Location_Type</th>\n",
       "      <th>Region_Code</th>\n",
       "      <th>Date</th>\n",
       "      <th>Holiday</th>\n",
       "      <th>Discount</th>\n",
       "      <th>#Order</th>\n",
       "      <th>Sales</th>\n",
       "    </tr>\n",
       "  </thead>\n",
       "  <tbody>\n",
       "    <tr>\n",
       "      <th>0</th>\n",
       "      <td>T1000001</td>\n",
       "      <td>1</td>\n",
       "      <td>S1</td>\n",
       "      <td>L3</td>\n",
       "      <td>R1</td>\n",
       "      <td>2018-01-01</td>\n",
       "      <td>1</td>\n",
       "      <td>Yes</td>\n",
       "      <td>9</td>\n",
       "      <td>7011.84</td>\n",
       "    </tr>\n",
       "    <tr>\n",
       "      <th>1</th>\n",
       "      <td>T1000002</td>\n",
       "      <td>253</td>\n",
       "      <td>S4</td>\n",
       "      <td>L2</td>\n",
       "      <td>R1</td>\n",
       "      <td>2018-01-01</td>\n",
       "      <td>1</td>\n",
       "      <td>Yes</td>\n",
       "      <td>60</td>\n",
       "      <td>51789.12</td>\n",
       "    </tr>\n",
       "    <tr>\n",
       "      <th>2</th>\n",
       "      <td>T1000003</td>\n",
       "      <td>252</td>\n",
       "      <td>S3</td>\n",
       "      <td>L2</td>\n",
       "      <td>R1</td>\n",
       "      <td>2018-01-01</td>\n",
       "      <td>1</td>\n",
       "      <td>Yes</td>\n",
       "      <td>42</td>\n",
       "      <td>36868.20</td>\n",
       "    </tr>\n",
       "    <tr>\n",
       "      <th>3</th>\n",
       "      <td>T1000004</td>\n",
       "      <td>251</td>\n",
       "      <td>S2</td>\n",
       "      <td>L3</td>\n",
       "      <td>R1</td>\n",
       "      <td>2018-01-01</td>\n",
       "      <td>1</td>\n",
       "      <td>Yes</td>\n",
       "      <td>23</td>\n",
       "      <td>19715.16</td>\n",
       "    </tr>\n",
       "    <tr>\n",
       "      <th>4</th>\n",
       "      <td>T1000005</td>\n",
       "      <td>250</td>\n",
       "      <td>S2</td>\n",
       "      <td>L3</td>\n",
       "      <td>R4</td>\n",
       "      <td>2018-01-01</td>\n",
       "      <td>1</td>\n",
       "      <td>Yes</td>\n",
       "      <td>62</td>\n",
       "      <td>45614.52</td>\n",
       "    </tr>\n",
       "  </tbody>\n",
       "</table>\n",
       "</div>"
      ],
      "text/plain": [
       "         ID  Store_id Store_Type Location_Type Region_Code        Date  \\\n",
       "0  T1000001         1         S1            L3          R1  2018-01-01   \n",
       "1  T1000002       253         S4            L2          R1  2018-01-01   \n",
       "2  T1000003       252         S3            L2          R1  2018-01-01   \n",
       "3  T1000004       251         S2            L3          R1  2018-01-01   \n",
       "4  T1000005       250         S2            L3          R4  2018-01-01   \n",
       "\n",
       "   Holiday Discount  #Order     Sales  \n",
       "0        1      Yes       9   7011.84  \n",
       "1        1      Yes      60  51789.12  \n",
       "2        1      Yes      42  36868.20  \n",
       "3        1      Yes      23  19715.16  \n",
       "4        1      Yes      62  45614.52  "
      ]
     },
     "execution_count": 3,
     "metadata": {},
     "output_type": "execute_result"
    }
   ],
   "source": [
    "train_df.head(5)"
   ]
  },
  {
   "cell_type": "code",
   "execution_count": 4,
   "metadata": {
    "colab": {
     "base_uri": "https://localhost:8080/",
     "height": 415
    },
    "executionInfo": {
     "elapsed": 27,
     "status": "ok",
     "timestamp": 1632049458037,
     "user": {
      "displayName": "Vineet Patel",
      "photoUrl": "https://lh3.googleusercontent.com/a-/AOh14Gg3orwxVwccrueaulqw9L98IBqGvNH1nEwdwiUP0Q=s64",
      "userId": "07760585287432952056"
     },
     "user_tz": -330
    },
    "id": "xXUgamnAbikn",
    "outputId": "1dd5efa1-bd07-4fdd-93a3-c2d5f5f23ab6"
   },
   "outputs": [
    {
     "data": {
      "text/html": [
       "<div>\n",
       "<style scoped>\n",
       "    .dataframe tbody tr th:only-of-type {\n",
       "        vertical-align: middle;\n",
       "    }\n",
       "\n",
       "    .dataframe tbody tr th {\n",
       "        vertical-align: top;\n",
       "    }\n",
       "\n",
       "    .dataframe thead th {\n",
       "        text-align: right;\n",
       "    }\n",
       "</style>\n",
       "<table border=\"1\" class=\"dataframe\">\n",
       "  <thead>\n",
       "    <tr style=\"text-align: right;\">\n",
       "      <th></th>\n",
       "      <th>ID</th>\n",
       "      <th>Store_id</th>\n",
       "      <th>Store_Type</th>\n",
       "      <th>Location_Type</th>\n",
       "      <th>Region_Code</th>\n",
       "      <th>Date</th>\n",
       "      <th>Holiday</th>\n",
       "      <th>Discount</th>\n",
       "    </tr>\n",
       "  </thead>\n",
       "  <tbody>\n",
       "    <tr>\n",
       "      <th>0</th>\n",
       "      <td>T1188341</td>\n",
       "      <td>171</td>\n",
       "      <td>S4</td>\n",
       "      <td>L2</td>\n",
       "      <td>R3</td>\n",
       "      <td>2019-06-01</td>\n",
       "      <td>0</td>\n",
       "      <td>No</td>\n",
       "    </tr>\n",
       "    <tr>\n",
       "      <th>1</th>\n",
       "      <td>T1188342</td>\n",
       "      <td>172</td>\n",
       "      <td>S1</td>\n",
       "      <td>L1</td>\n",
       "      <td>R1</td>\n",
       "      <td>2019-06-01</td>\n",
       "      <td>0</td>\n",
       "      <td>No</td>\n",
       "    </tr>\n",
       "    <tr>\n",
       "      <th>2</th>\n",
       "      <td>T1188343</td>\n",
       "      <td>173</td>\n",
       "      <td>S4</td>\n",
       "      <td>L2</td>\n",
       "      <td>R1</td>\n",
       "      <td>2019-06-01</td>\n",
       "      <td>0</td>\n",
       "      <td>No</td>\n",
       "    </tr>\n",
       "    <tr>\n",
       "      <th>3</th>\n",
       "      <td>T1188344</td>\n",
       "      <td>174</td>\n",
       "      <td>S1</td>\n",
       "      <td>L1</td>\n",
       "      <td>R4</td>\n",
       "      <td>2019-06-01</td>\n",
       "      <td>0</td>\n",
       "      <td>No</td>\n",
       "    </tr>\n",
       "    <tr>\n",
       "      <th>4</th>\n",
       "      <td>T1188345</td>\n",
       "      <td>170</td>\n",
       "      <td>S1</td>\n",
       "      <td>L1</td>\n",
       "      <td>R2</td>\n",
       "      <td>2019-06-01</td>\n",
       "      <td>0</td>\n",
       "      <td>No</td>\n",
       "    </tr>\n",
       "  </tbody>\n",
       "</table>\n",
       "</div>"
      ],
      "text/plain": [
       "         ID  Store_id Store_Type Location_Type Region_Code        Date  \\\n",
       "0  T1188341       171         S4            L2          R3  2019-06-01   \n",
       "1  T1188342       172         S1            L1          R1  2019-06-01   \n",
       "2  T1188343       173         S4            L2          R1  2019-06-01   \n",
       "3  T1188344       174         S1            L1          R4  2019-06-01   \n",
       "4  T1188345       170         S1            L1          R2  2019-06-01   \n",
       "\n",
       "   Holiday Discount  \n",
       "0        0       No  \n",
       "1        0       No  \n",
       "2        0       No  \n",
       "3        0       No  \n",
       "4        0       No  "
      ]
     },
     "execution_count": 4,
     "metadata": {},
     "output_type": "execute_result"
    }
   ],
   "source": [
    "test_df.head(5)"
   ]
  },
  {
   "cell_type": "code",
   "execution_count": 5,
   "metadata": {
    "colab": {
     "base_uri": "https://localhost:8080/"
    },
    "executionInfo": {
     "elapsed": 25,
     "status": "ok",
     "timestamp": 1632049458038,
     "user": {
      "displayName": "Vineet Patel",
      "photoUrl": "https://lh3.googleusercontent.com/a-/AOh14Gg3orwxVwccrueaulqw9L98IBqGvNH1nEwdwiUP0Q=s64",
      "userId": "07760585287432952056"
     },
     "user_tz": -330
    },
    "id": "2slw4PMsa5c4",
    "outputId": "a22af5c6-a03f-4f78-ce6c-321ad444939e"
   },
   "outputs": [
    {
     "name": "stdout",
     "output_type": "stream",
     "text": [
      "<class 'pandas.core.frame.DataFrame'>\n",
      "RangeIndex: 188340 entries, 0 to 188339\n",
      "Data columns (total 10 columns):\n",
      " #   Column         Non-Null Count   Dtype  \n",
      "---  ------         --------------   -----  \n",
      " 0   ID             188340 non-null  object \n",
      " 1   Store_id       188340 non-null  int64  \n",
      " 2   Store_Type     188340 non-null  object \n",
      " 3   Location_Type  188340 non-null  object \n",
      " 4   Region_Code    188340 non-null  object \n",
      " 5   Date           188340 non-null  object \n",
      " 6   Holiday        188340 non-null  int64  \n",
      " 7   Discount       188340 non-null  object \n",
      " 8   #Order         188340 non-null  int64  \n",
      " 9   Sales          188340 non-null  float64\n",
      "dtypes: float64(1), int64(3), object(6)\n",
      "memory usage: 14.4+ MB\n"
     ]
    }
   ],
   "source": [
    "train_df.info()"
   ]
  },
  {
   "cell_type": "code",
   "execution_count": 6,
   "metadata": {
    "colab": {
     "base_uri": "https://localhost:8080/"
    },
    "executionInfo": {
     "elapsed": 16,
     "status": "ok",
     "timestamp": 1632049458038,
     "user": {
      "displayName": "Vineet Patel",
      "photoUrl": "https://lh3.googleusercontent.com/a-/AOh14Gg3orwxVwccrueaulqw9L98IBqGvNH1nEwdwiUP0Q=s64",
      "userId": "07760585287432952056"
     },
     "user_tz": -330
    },
    "id": "sWlKoj4fbW3l",
    "outputId": "08ac2b8e-25eb-4c8f-e986-39db09af6c5a"
   },
   "outputs": [
    {
     "data": {
      "text/plain": [
       "ID               188340\n",
       "Store_id            365\n",
       "Store_Type            4\n",
       "Location_Type         5\n",
       "Region_Code           4\n",
       "Date                516\n",
       "Holiday               2\n",
       "Discount              2\n",
       "#Order              299\n",
       "Sales             47422\n",
       "dtype: int64"
      ]
     },
     "execution_count": 6,
     "metadata": {},
     "output_type": "execute_result"
    }
   ],
   "source": [
    "train_df.nunique()"
   ]
  },
  {
   "cell_type": "code",
   "execution_count": 7,
   "metadata": {
    "id": "iyysF-trdS8D"
   },
   "outputs": [],
   "source": [
    "train_df.drop(['ID','#Order'],axis=1,inplace=True)\n",
    "test_df.drop(['ID'],axis=1,inplace=True)"
   ]
  },
  {
   "cell_type": "code",
   "execution_count": 8,
   "metadata": {
    "colab": {
     "base_uri": "https://localhost:8080/",
     "height": 202
    },
    "executionInfo": {
     "elapsed": 12,
     "status": "ok",
     "timestamp": 1632049458039,
     "user": {
      "displayName": "Vineet Patel",
      "photoUrl": "https://lh3.googleusercontent.com/a-/AOh14Gg3orwxVwccrueaulqw9L98IBqGvNH1nEwdwiUP0Q=s64",
      "userId": "07760585287432952056"
     },
     "user_tz": -330
    },
    "id": "wOCv1H-QdiUJ",
    "outputId": "3f5aab11-b97f-401a-d90e-5ad301ad7608"
   },
   "outputs": [
    {
     "data": {
      "text/html": [
       "<div>\n",
       "<style scoped>\n",
       "    .dataframe tbody tr th:only-of-type {\n",
       "        vertical-align: middle;\n",
       "    }\n",
       "\n",
       "    .dataframe tbody tr th {\n",
       "        vertical-align: top;\n",
       "    }\n",
       "\n",
       "    .dataframe thead th {\n",
       "        text-align: right;\n",
       "    }\n",
       "</style>\n",
       "<table border=\"1\" class=\"dataframe\">\n",
       "  <thead>\n",
       "    <tr style=\"text-align: right;\">\n",
       "      <th></th>\n",
       "      <th>Store_id</th>\n",
       "      <th>Store_Type</th>\n",
       "      <th>Location_Type</th>\n",
       "      <th>Region_Code</th>\n",
       "      <th>Date</th>\n",
       "      <th>Holiday</th>\n",
       "      <th>Discount</th>\n",
       "      <th>Sales</th>\n",
       "    </tr>\n",
       "  </thead>\n",
       "  <tbody>\n",
       "    <tr>\n",
       "      <th>0</th>\n",
       "      <td>1</td>\n",
       "      <td>S1</td>\n",
       "      <td>L3</td>\n",
       "      <td>R1</td>\n",
       "      <td>2018-01-01</td>\n",
       "      <td>1</td>\n",
       "      <td>Yes</td>\n",
       "      <td>7011.84</td>\n",
       "    </tr>\n",
       "    <tr>\n",
       "      <th>1</th>\n",
       "      <td>253</td>\n",
       "      <td>S4</td>\n",
       "      <td>L2</td>\n",
       "      <td>R1</td>\n",
       "      <td>2018-01-01</td>\n",
       "      <td>1</td>\n",
       "      <td>Yes</td>\n",
       "      <td>51789.12</td>\n",
       "    </tr>\n",
       "    <tr>\n",
       "      <th>2</th>\n",
       "      <td>252</td>\n",
       "      <td>S3</td>\n",
       "      <td>L2</td>\n",
       "      <td>R1</td>\n",
       "      <td>2018-01-01</td>\n",
       "      <td>1</td>\n",
       "      <td>Yes</td>\n",
       "      <td>36868.20</td>\n",
       "    </tr>\n",
       "    <tr>\n",
       "      <th>3</th>\n",
       "      <td>251</td>\n",
       "      <td>S2</td>\n",
       "      <td>L3</td>\n",
       "      <td>R1</td>\n",
       "      <td>2018-01-01</td>\n",
       "      <td>1</td>\n",
       "      <td>Yes</td>\n",
       "      <td>19715.16</td>\n",
       "    </tr>\n",
       "    <tr>\n",
       "      <th>4</th>\n",
       "      <td>250</td>\n",
       "      <td>S2</td>\n",
       "      <td>L3</td>\n",
       "      <td>R4</td>\n",
       "      <td>2018-01-01</td>\n",
       "      <td>1</td>\n",
       "      <td>Yes</td>\n",
       "      <td>45614.52</td>\n",
       "    </tr>\n",
       "  </tbody>\n",
       "</table>\n",
       "</div>"
      ],
      "text/plain": [
       "   Store_id Store_Type Location_Type Region_Code        Date  Holiday  \\\n",
       "0         1         S1            L3          R1  2018-01-01        1   \n",
       "1       253         S4            L2          R1  2018-01-01        1   \n",
       "2       252         S3            L2          R1  2018-01-01        1   \n",
       "3       251         S2            L3          R1  2018-01-01        1   \n",
       "4       250         S2            L3          R4  2018-01-01        1   \n",
       "\n",
       "  Discount     Sales  \n",
       "0      Yes   7011.84  \n",
       "1      Yes  51789.12  \n",
       "2      Yes  36868.20  \n",
       "3      Yes  19715.16  \n",
       "4      Yes  45614.52  "
      ]
     },
     "execution_count": 8,
     "metadata": {},
     "output_type": "execute_result"
    }
   ],
   "source": [
    "train_df.head()"
   ]
  },
  {
   "cell_type": "code",
   "execution_count": 9,
   "metadata": {
    "id": "46PQSZ7KKQ2P"
   },
   "outputs": [],
   "source": [
    "# Date\n",
    "train_date_lst = []\n",
    "train_year_date_lst = []\n",
    "train_month_date_lst = []\n",
    "train_day_date_lst = []\n",
    "train_weekday_date_lst = []\n",
    "\n",
    "for d in train_df['Date']:\n",
    "  train_date_lst.append(dt.datetime.strptime(d,'%Y-%m-%d'))\n",
    "\n",
    "for year in train_date_lst:\n",
    "  train_year_date_lst.append(year.strftime('%Y'))\n",
    "\n",
    "for month in train_date_lst:\n",
    "  train_month_date_lst.append(month.strftime('%m'))\n",
    "\n",
    "for day in train_date_lst:\n",
    "  train_day_date_lst.append(day.strftime('%d'))\n",
    "\n",
    "for weekday in train_date_lst:\n",
    "  train_weekday_date_lst.append(weekday.strftime('%A'))\n",
    "# print(date_lst[0].strftime('%A'))"
   ]
  },
  {
   "cell_type": "code",
   "execution_count": 10,
   "metadata": {
    "id": "FeaZzkv4qrlk"
   },
   "outputs": [],
   "source": [
    "# Date\n",
    "test_date_lst = []\n",
    "test_year_date_lst = []\n",
    "test_month_date_lst = []\n",
    "test_day_date_lst = []\n",
    "test_weekday_date_lst = []\n",
    "\n",
    "for d in test_df['Date']:\n",
    "  test_date_lst.append(dt.datetime.strptime(d,'%Y-%m-%d'))\n",
    "\n",
    "for year in test_date_lst:\n",
    "  test_year_date_lst.append(year.strftime('%Y'))\n",
    "\n",
    "for month in test_date_lst:\n",
    "  test_month_date_lst.append(month.strftime('%m'))\n",
    "\n",
    "for day in test_date_lst:\n",
    "  test_day_date_lst.append(day.strftime('%d'))\n",
    "\n",
    "for weekday in test_date_lst:\n",
    "  test_weekday_date_lst.append(weekday.strftime('%A'))\n",
    "# print(date_lst[0].strftime('%A'))"
   ]
  },
  {
   "cell_type": "code",
   "execution_count": 11,
   "metadata": {
    "id": "MAK0ZnoWQdZL"
   },
   "outputs": [],
   "source": [
    "train_df['Year'] = pd.Series(train_year_date_lst)\n",
    "train_df['Month'] = pd.Series(train_month_date_lst)\n",
    "train_df['Day'] = pd.Series(train_day_date_lst)\n",
    "train_df['Week Day'] = pd.Series(train_weekday_date_lst)\n",
    "\n",
    "test_df['Year'] = pd.Series(test_year_date_lst)\n",
    "test_df['Month'] = pd.Series(test_month_date_lst)\n",
    "test_df['Day'] = pd.Series(test_day_date_lst)\n",
    "test_df['Week Day'] = pd.Series(test_weekday_date_lst)"
   ]
  },
  {
   "cell_type": "code",
   "execution_count": 12,
   "metadata": {
    "colab": {
     "base_uri": "https://localhost:8080/",
     "height": 202
    },
    "executionInfo": {
     "elapsed": 12,
     "status": "ok",
     "timestamp": 1632049461944,
     "user": {
      "displayName": "Vineet Patel",
      "photoUrl": "https://lh3.googleusercontent.com/a-/AOh14Gg3orwxVwccrueaulqw9L98IBqGvNH1nEwdwiUP0Q=s64",
      "userId": "07760585287432952056"
     },
     "user_tz": -330
    },
    "id": "C4ypaGFFamHO",
    "outputId": "f5249b68-148c-437d-bbce-830835057273"
   },
   "outputs": [
    {
     "data": {
      "text/html": [
       "<div>\n",
       "<style scoped>\n",
       "    .dataframe tbody tr th:only-of-type {\n",
       "        vertical-align: middle;\n",
       "    }\n",
       "\n",
       "    .dataframe tbody tr th {\n",
       "        vertical-align: top;\n",
       "    }\n",
       "\n",
       "    .dataframe thead th {\n",
       "        text-align: right;\n",
       "    }\n",
       "</style>\n",
       "<table border=\"1\" class=\"dataframe\">\n",
       "  <thead>\n",
       "    <tr style=\"text-align: right;\">\n",
       "      <th></th>\n",
       "      <th>Store_id</th>\n",
       "      <th>Store_Type</th>\n",
       "      <th>Location_Type</th>\n",
       "      <th>Region_Code</th>\n",
       "      <th>Holiday</th>\n",
       "      <th>Discount</th>\n",
       "      <th>Sales</th>\n",
       "      <th>Year</th>\n",
       "      <th>Month</th>\n",
       "      <th>Day</th>\n",
       "      <th>Week Day</th>\n",
       "    </tr>\n",
       "  </thead>\n",
       "  <tbody>\n",
       "    <tr>\n",
       "      <th>0</th>\n",
       "      <td>1</td>\n",
       "      <td>S1</td>\n",
       "      <td>L3</td>\n",
       "      <td>R1</td>\n",
       "      <td>1</td>\n",
       "      <td>Yes</td>\n",
       "      <td>7011.84</td>\n",
       "      <td>2018</td>\n",
       "      <td>01</td>\n",
       "      <td>01</td>\n",
       "      <td>Monday</td>\n",
       "    </tr>\n",
       "    <tr>\n",
       "      <th>1</th>\n",
       "      <td>253</td>\n",
       "      <td>S4</td>\n",
       "      <td>L2</td>\n",
       "      <td>R1</td>\n",
       "      <td>1</td>\n",
       "      <td>Yes</td>\n",
       "      <td>51789.12</td>\n",
       "      <td>2018</td>\n",
       "      <td>01</td>\n",
       "      <td>01</td>\n",
       "      <td>Monday</td>\n",
       "    </tr>\n",
       "    <tr>\n",
       "      <th>2</th>\n",
       "      <td>252</td>\n",
       "      <td>S3</td>\n",
       "      <td>L2</td>\n",
       "      <td>R1</td>\n",
       "      <td>1</td>\n",
       "      <td>Yes</td>\n",
       "      <td>36868.20</td>\n",
       "      <td>2018</td>\n",
       "      <td>01</td>\n",
       "      <td>01</td>\n",
       "      <td>Monday</td>\n",
       "    </tr>\n",
       "    <tr>\n",
       "      <th>3</th>\n",
       "      <td>251</td>\n",
       "      <td>S2</td>\n",
       "      <td>L3</td>\n",
       "      <td>R1</td>\n",
       "      <td>1</td>\n",
       "      <td>Yes</td>\n",
       "      <td>19715.16</td>\n",
       "      <td>2018</td>\n",
       "      <td>01</td>\n",
       "      <td>01</td>\n",
       "      <td>Monday</td>\n",
       "    </tr>\n",
       "    <tr>\n",
       "      <th>4</th>\n",
       "      <td>250</td>\n",
       "      <td>S2</td>\n",
       "      <td>L3</td>\n",
       "      <td>R4</td>\n",
       "      <td>1</td>\n",
       "      <td>Yes</td>\n",
       "      <td>45614.52</td>\n",
       "      <td>2018</td>\n",
       "      <td>01</td>\n",
       "      <td>01</td>\n",
       "      <td>Monday</td>\n",
       "    </tr>\n",
       "  </tbody>\n",
       "</table>\n",
       "</div>"
      ],
      "text/plain": [
       "   Store_id Store_Type Location_Type Region_Code  Holiday Discount     Sales  \\\n",
       "0         1         S1            L3          R1        1      Yes   7011.84   \n",
       "1       253         S4            L2          R1        1      Yes  51789.12   \n",
       "2       252         S3            L2          R1        1      Yes  36868.20   \n",
       "3       251         S2            L3          R1        1      Yes  19715.16   \n",
       "4       250         S2            L3          R4        1      Yes  45614.52   \n",
       "\n",
       "   Year Month Day Week Day  \n",
       "0  2018    01  01   Monday  \n",
       "1  2018    01  01   Monday  \n",
       "2  2018    01  01   Monday  \n",
       "3  2018    01  01   Monday  \n",
       "4  2018    01  01   Monday  "
      ]
     },
     "execution_count": 12,
     "metadata": {},
     "output_type": "execute_result"
    }
   ],
   "source": [
    "train_df.drop(['Date'],axis=1,inplace=True)\n",
    "train_df.head()"
   ]
  },
  {
   "cell_type": "code",
   "execution_count": 13,
   "metadata": {
    "colab": {
     "base_uri": "https://localhost:8080/",
     "height": 202
    },
    "executionInfo": {
     "elapsed": 13,
     "status": "ok",
     "timestamp": 1632049461946,
     "user": {
      "displayName": "Vineet Patel",
      "photoUrl": "https://lh3.googleusercontent.com/a-/AOh14Gg3orwxVwccrueaulqw9L98IBqGvNH1nEwdwiUP0Q=s64",
      "userId": "07760585287432952056"
     },
     "user_tz": -330
    },
    "id": "Uz5jEn26rUJd",
    "outputId": "6348b640-680b-4825-e740-4020aa0f8b4b"
   },
   "outputs": [
    {
     "data": {
      "text/html": [
       "<div>\n",
       "<style scoped>\n",
       "    .dataframe tbody tr th:only-of-type {\n",
       "        vertical-align: middle;\n",
       "    }\n",
       "\n",
       "    .dataframe tbody tr th {\n",
       "        vertical-align: top;\n",
       "    }\n",
       "\n",
       "    .dataframe thead th {\n",
       "        text-align: right;\n",
       "    }\n",
       "</style>\n",
       "<table border=\"1\" class=\"dataframe\">\n",
       "  <thead>\n",
       "    <tr style=\"text-align: right;\">\n",
       "      <th></th>\n",
       "      <th>Store_id</th>\n",
       "      <th>Store_Type</th>\n",
       "      <th>Location_Type</th>\n",
       "      <th>Region_Code</th>\n",
       "      <th>Holiday</th>\n",
       "      <th>Discount</th>\n",
       "      <th>Year</th>\n",
       "      <th>Month</th>\n",
       "      <th>Day</th>\n",
       "      <th>Week Day</th>\n",
       "    </tr>\n",
       "  </thead>\n",
       "  <tbody>\n",
       "    <tr>\n",
       "      <th>0</th>\n",
       "      <td>171</td>\n",
       "      <td>S4</td>\n",
       "      <td>L2</td>\n",
       "      <td>R3</td>\n",
       "      <td>0</td>\n",
       "      <td>No</td>\n",
       "      <td>2019</td>\n",
       "      <td>06</td>\n",
       "      <td>01</td>\n",
       "      <td>Saturday</td>\n",
       "    </tr>\n",
       "    <tr>\n",
       "      <th>1</th>\n",
       "      <td>172</td>\n",
       "      <td>S1</td>\n",
       "      <td>L1</td>\n",
       "      <td>R1</td>\n",
       "      <td>0</td>\n",
       "      <td>No</td>\n",
       "      <td>2019</td>\n",
       "      <td>06</td>\n",
       "      <td>01</td>\n",
       "      <td>Saturday</td>\n",
       "    </tr>\n",
       "    <tr>\n",
       "      <th>2</th>\n",
       "      <td>173</td>\n",
       "      <td>S4</td>\n",
       "      <td>L2</td>\n",
       "      <td>R1</td>\n",
       "      <td>0</td>\n",
       "      <td>No</td>\n",
       "      <td>2019</td>\n",
       "      <td>06</td>\n",
       "      <td>01</td>\n",
       "      <td>Saturday</td>\n",
       "    </tr>\n",
       "    <tr>\n",
       "      <th>3</th>\n",
       "      <td>174</td>\n",
       "      <td>S1</td>\n",
       "      <td>L1</td>\n",
       "      <td>R4</td>\n",
       "      <td>0</td>\n",
       "      <td>No</td>\n",
       "      <td>2019</td>\n",
       "      <td>06</td>\n",
       "      <td>01</td>\n",
       "      <td>Saturday</td>\n",
       "    </tr>\n",
       "    <tr>\n",
       "      <th>4</th>\n",
       "      <td>170</td>\n",
       "      <td>S1</td>\n",
       "      <td>L1</td>\n",
       "      <td>R2</td>\n",
       "      <td>0</td>\n",
       "      <td>No</td>\n",
       "      <td>2019</td>\n",
       "      <td>06</td>\n",
       "      <td>01</td>\n",
       "      <td>Saturday</td>\n",
       "    </tr>\n",
       "  </tbody>\n",
       "</table>\n",
       "</div>"
      ],
      "text/plain": [
       "   Store_id Store_Type Location_Type Region_Code  Holiday Discount  Year  \\\n",
       "0       171         S4            L2          R3        0       No  2019   \n",
       "1       172         S1            L1          R1        0       No  2019   \n",
       "2       173         S4            L2          R1        0       No  2019   \n",
       "3       174         S1            L1          R4        0       No  2019   \n",
       "4       170         S1            L1          R2        0       No  2019   \n",
       "\n",
       "  Month Day  Week Day  \n",
       "0    06  01  Saturday  \n",
       "1    06  01  Saturday  \n",
       "2    06  01  Saturday  \n",
       "3    06  01  Saturday  \n",
       "4    06  01  Saturday  "
      ]
     },
     "execution_count": 13,
     "metadata": {},
     "output_type": "execute_result"
    }
   ],
   "source": [
    "test_df.drop(['Date'],axis=1,inplace=True)\n",
    "test_df.head()"
   ]
  },
  {
   "cell_type": "code",
   "execution_count": 14,
   "metadata": {
    "id": "v0ZciGqyY1zW"
   },
   "outputs": [],
   "source": [
    "from sklearn.preprocessing import LabelEncoder\n",
    "encoder = LabelEncoder()"
   ]
  },
  {
   "cell_type": "code",
   "execution_count": 15,
   "metadata": {
    "id": "UkF09giXcOfh"
   },
   "outputs": [],
   "source": [
    "train_df['Store_Type'] = encoder.fit_transform(train_df['Store_Type'])\n",
    "train_df['Location_Type'] = encoder.fit_transform(train_df['Location_Type'])\n",
    "train_df['Region_Code'] = encoder.fit_transform(train_df['Region_Code'])\n",
    "train_df['Discount'] = encoder.fit_transform(train_df['Discount'])\n",
    "train_df['Week Day'] = encoder.fit_transform(train_df['Week Day'])\n",
    "\n",
    "test_df['Store_Type'] = encoder.fit_transform(test_df['Store_Type'])\n",
    "test_df['Location_Type'] = encoder.fit_transform(test_df['Location_Type'])\n",
    "test_df['Region_Code'] = encoder.fit_transform(test_df['Region_Code'])\n",
    "test_df['Discount'] = encoder.fit_transform(test_df['Discount'])\n",
    "test_df['Week Day'] = encoder.fit_transform(test_df['Week Day'])"
   ]
  },
  {
   "cell_type": "code",
   "execution_count": 16,
   "metadata": {
    "colab": {
     "base_uri": "https://localhost:8080/",
     "height": 202
    },
    "executionInfo": {
     "elapsed": 31,
     "status": "ok",
     "timestamp": 1632049462965,
     "user": {
      "displayName": "Vineet Patel",
      "photoUrl": "https://lh3.googleusercontent.com/a-/AOh14Gg3orwxVwccrueaulqw9L98IBqGvNH1nEwdwiUP0Q=s64",
      "userId": "07760585287432952056"
     },
     "user_tz": -330
    },
    "id": "VqeHqnEccUe0",
    "outputId": "b575981d-8ffd-423f-eb75-ea306e9ba4d5"
   },
   "outputs": [
    {
     "data": {
      "text/html": [
       "<div>\n",
       "<style scoped>\n",
       "    .dataframe tbody tr th:only-of-type {\n",
       "        vertical-align: middle;\n",
       "    }\n",
       "\n",
       "    .dataframe tbody tr th {\n",
       "        vertical-align: top;\n",
       "    }\n",
       "\n",
       "    .dataframe thead th {\n",
       "        text-align: right;\n",
       "    }\n",
       "</style>\n",
       "<table border=\"1\" class=\"dataframe\">\n",
       "  <thead>\n",
       "    <tr style=\"text-align: right;\">\n",
       "      <th></th>\n",
       "      <th>Store_id</th>\n",
       "      <th>Store_Type</th>\n",
       "      <th>Location_Type</th>\n",
       "      <th>Region_Code</th>\n",
       "      <th>Holiday</th>\n",
       "      <th>Discount</th>\n",
       "      <th>Sales</th>\n",
       "      <th>Year</th>\n",
       "      <th>Month</th>\n",
       "      <th>Day</th>\n",
       "      <th>Week Day</th>\n",
       "    </tr>\n",
       "  </thead>\n",
       "  <tbody>\n",
       "    <tr>\n",
       "      <th>0</th>\n",
       "      <td>1</td>\n",
       "      <td>0</td>\n",
       "      <td>2</td>\n",
       "      <td>0</td>\n",
       "      <td>1</td>\n",
       "      <td>1</td>\n",
       "      <td>7011.84</td>\n",
       "      <td>2018</td>\n",
       "      <td>01</td>\n",
       "      <td>01</td>\n",
       "      <td>1</td>\n",
       "    </tr>\n",
       "    <tr>\n",
       "      <th>1</th>\n",
       "      <td>253</td>\n",
       "      <td>3</td>\n",
       "      <td>1</td>\n",
       "      <td>0</td>\n",
       "      <td>1</td>\n",
       "      <td>1</td>\n",
       "      <td>51789.12</td>\n",
       "      <td>2018</td>\n",
       "      <td>01</td>\n",
       "      <td>01</td>\n",
       "      <td>1</td>\n",
       "    </tr>\n",
       "    <tr>\n",
       "      <th>2</th>\n",
       "      <td>252</td>\n",
       "      <td>2</td>\n",
       "      <td>1</td>\n",
       "      <td>0</td>\n",
       "      <td>1</td>\n",
       "      <td>1</td>\n",
       "      <td>36868.20</td>\n",
       "      <td>2018</td>\n",
       "      <td>01</td>\n",
       "      <td>01</td>\n",
       "      <td>1</td>\n",
       "    </tr>\n",
       "    <tr>\n",
       "      <th>3</th>\n",
       "      <td>251</td>\n",
       "      <td>1</td>\n",
       "      <td>2</td>\n",
       "      <td>0</td>\n",
       "      <td>1</td>\n",
       "      <td>1</td>\n",
       "      <td>19715.16</td>\n",
       "      <td>2018</td>\n",
       "      <td>01</td>\n",
       "      <td>01</td>\n",
       "      <td>1</td>\n",
       "    </tr>\n",
       "    <tr>\n",
       "      <th>4</th>\n",
       "      <td>250</td>\n",
       "      <td>1</td>\n",
       "      <td>2</td>\n",
       "      <td>3</td>\n",
       "      <td>1</td>\n",
       "      <td>1</td>\n",
       "      <td>45614.52</td>\n",
       "      <td>2018</td>\n",
       "      <td>01</td>\n",
       "      <td>01</td>\n",
       "      <td>1</td>\n",
       "    </tr>\n",
       "  </tbody>\n",
       "</table>\n",
       "</div>"
      ],
      "text/plain": [
       "   Store_id  Store_Type  Location_Type  Region_Code  Holiday  Discount  \\\n",
       "0         1           0              2            0        1         1   \n",
       "1       253           3              1            0        1         1   \n",
       "2       252           2              1            0        1         1   \n",
       "3       251           1              2            0        1         1   \n",
       "4       250           1              2            3        1         1   \n",
       "\n",
       "      Sales  Year Month Day  Week Day  \n",
       "0   7011.84  2018    01  01         1  \n",
       "1  51789.12  2018    01  01         1  \n",
       "2  36868.20  2018    01  01         1  \n",
       "3  19715.16  2018    01  01         1  \n",
       "4  45614.52  2018    01  01         1  "
      ]
     },
     "execution_count": 16,
     "metadata": {},
     "output_type": "execute_result"
    }
   ],
   "source": [
    "train_df.head()"
   ]
  },
  {
   "cell_type": "code",
   "execution_count": 17,
   "metadata": {
    "colab": {
     "base_uri": "https://localhost:8080/"
    },
    "executionInfo": {
     "elapsed": 29,
     "status": "ok",
     "timestamp": 1632049462965,
     "user": {
      "displayName": "Vineet Patel",
      "photoUrl": "https://lh3.googleusercontent.com/a-/AOh14Gg3orwxVwccrueaulqw9L98IBqGvNH1nEwdwiUP0Q=s64",
      "userId": "07760585287432952056"
     },
     "user_tz": -330
    },
    "id": "YH3anZ-S7Yc0",
    "outputId": "554c2b0e-66b5-4ac7-f746-32aa799c44f9"
   },
   "outputs": [
    {
     "data": {
      "text/plain": [
       "Year  Holiday\n",
       "2018  0          116070\n",
       "      1           17155\n",
       "2019  0           47450\n",
       "      1            7665\n",
       "Name: Store_id, dtype: int64"
      ]
     },
     "execution_count": 17,
     "metadata": {},
     "output_type": "execute_result"
    }
   ],
   "source": [
    "train_df.groupby(['Year','Holiday'])['Store_id'].count()"
   ]
  },
  {
   "cell_type": "code",
   "execution_count": 18,
   "metadata": {
    "colab": {
     "base_uri": "https://localhost:8080/",
     "height": 202
    },
    "executionInfo": {
     "elapsed": 27,
     "status": "ok",
     "timestamp": 1632049462966,
     "user": {
      "displayName": "Vineet Patel",
      "photoUrl": "https://lh3.googleusercontent.com/a-/AOh14Gg3orwxVwccrueaulqw9L98IBqGvNH1nEwdwiUP0Q=s64",
      "userId": "07760585287432952056"
     },
     "user_tz": -330
    },
    "id": "hb0NTwZLuu7K",
    "outputId": "baf27a2b-9d69-4dfa-f6b3-b87f213171d2"
   },
   "outputs": [
    {
     "data": {
      "text/html": [
       "<div>\n",
       "<style scoped>\n",
       "    .dataframe tbody tr th:only-of-type {\n",
       "        vertical-align: middle;\n",
       "    }\n",
       "\n",
       "    .dataframe tbody tr th {\n",
       "        vertical-align: top;\n",
       "    }\n",
       "\n",
       "    .dataframe thead th {\n",
       "        text-align: right;\n",
       "    }\n",
       "</style>\n",
       "<table border=\"1\" class=\"dataframe\">\n",
       "  <thead>\n",
       "    <tr style=\"text-align: right;\">\n",
       "      <th></th>\n",
       "      <th>Store_id</th>\n",
       "      <th>Store_Type</th>\n",
       "      <th>Location_Type</th>\n",
       "      <th>Region_Code</th>\n",
       "      <th>Holiday</th>\n",
       "      <th>Discount</th>\n",
       "      <th>Sales</th>\n",
       "      <th>Year</th>\n",
       "      <th>Month</th>\n",
       "      <th>Day</th>\n",
       "      <th>Week Day</th>\n",
       "      <th>Holidays in Year</th>\n",
       "    </tr>\n",
       "  </thead>\n",
       "  <tbody>\n",
       "    <tr>\n",
       "      <th>0</th>\n",
       "      <td>1</td>\n",
       "      <td>0</td>\n",
       "      <td>2</td>\n",
       "      <td>0</td>\n",
       "      <td>1</td>\n",
       "      <td>1</td>\n",
       "      <td>7011.84</td>\n",
       "      <td>2018</td>\n",
       "      <td>01</td>\n",
       "      <td>01</td>\n",
       "      <td>1</td>\n",
       "      <td>17155</td>\n",
       "    </tr>\n",
       "    <tr>\n",
       "      <th>1</th>\n",
       "      <td>253</td>\n",
       "      <td>3</td>\n",
       "      <td>1</td>\n",
       "      <td>0</td>\n",
       "      <td>1</td>\n",
       "      <td>1</td>\n",
       "      <td>51789.12</td>\n",
       "      <td>2018</td>\n",
       "      <td>01</td>\n",
       "      <td>01</td>\n",
       "      <td>1</td>\n",
       "      <td>17155</td>\n",
       "    </tr>\n",
       "    <tr>\n",
       "      <th>2</th>\n",
       "      <td>252</td>\n",
       "      <td>2</td>\n",
       "      <td>1</td>\n",
       "      <td>0</td>\n",
       "      <td>1</td>\n",
       "      <td>1</td>\n",
       "      <td>36868.20</td>\n",
       "      <td>2018</td>\n",
       "      <td>01</td>\n",
       "      <td>01</td>\n",
       "      <td>1</td>\n",
       "      <td>17155</td>\n",
       "    </tr>\n",
       "    <tr>\n",
       "      <th>3</th>\n",
       "      <td>251</td>\n",
       "      <td>1</td>\n",
       "      <td>2</td>\n",
       "      <td>0</td>\n",
       "      <td>1</td>\n",
       "      <td>1</td>\n",
       "      <td>19715.16</td>\n",
       "      <td>2018</td>\n",
       "      <td>01</td>\n",
       "      <td>01</td>\n",
       "      <td>1</td>\n",
       "      <td>17155</td>\n",
       "    </tr>\n",
       "    <tr>\n",
       "      <th>4</th>\n",
       "      <td>250</td>\n",
       "      <td>1</td>\n",
       "      <td>2</td>\n",
       "      <td>3</td>\n",
       "      <td>1</td>\n",
       "      <td>1</td>\n",
       "      <td>45614.52</td>\n",
       "      <td>2018</td>\n",
       "      <td>01</td>\n",
       "      <td>01</td>\n",
       "      <td>1</td>\n",
       "      <td>17155</td>\n",
       "    </tr>\n",
       "  </tbody>\n",
       "</table>\n",
       "</div>"
      ],
      "text/plain": [
       "   Store_id  Store_Type  Location_Type  Region_Code  Holiday  Discount  \\\n",
       "0         1           0              2            0        1         1   \n",
       "1       253           3              1            0        1         1   \n",
       "2       252           2              1            0        1         1   \n",
       "3       251           1              2            0        1         1   \n",
       "4       250           1              2            3        1         1   \n",
       "\n",
       "      Sales  Year Month Day  Week Day  Holidays in Year  \n",
       "0   7011.84  2018    01  01         1             17155  \n",
       "1  51789.12  2018    01  01         1             17155  \n",
       "2  36868.20  2018    01  01         1             17155  \n",
       "3  19715.16  2018    01  01         1             17155  \n",
       "4  45614.52  2018    01  01         1             17155  "
      ]
     },
     "execution_count": 18,
     "metadata": {},
     "output_type": "execute_result"
    }
   ],
   "source": [
    "train_df['Holidays in Year'] = train_df.groupby(['Year','Holiday'])['Store_id'].transform('count')\n",
    "train_df.head()"
   ]
  },
  {
   "cell_type": "code",
   "execution_count": 19,
   "metadata": {
    "colab": {
     "base_uri": "https://localhost:8080/",
     "height": 202
    },
    "executionInfo": {
     "elapsed": 27,
     "status": "ok",
     "timestamp": 1632049462967,
     "user": {
      "displayName": "Vineet Patel",
      "photoUrl": "https://lh3.googleusercontent.com/a-/AOh14Gg3orwxVwccrueaulqw9L98IBqGvNH1nEwdwiUP0Q=s64",
      "userId": "07760585287432952056"
     },
     "user_tz": -330
    },
    "id": "JyfM09CD2ATs",
    "outputId": "b160d1c2-7dda-47b7-893b-bd1cf5aafc41"
   },
   "outputs": [
    {
     "data": {
      "text/html": [
       "<div>\n",
       "<style scoped>\n",
       "    .dataframe tbody tr th:only-of-type {\n",
       "        vertical-align: middle;\n",
       "    }\n",
       "\n",
       "    .dataframe tbody tr th {\n",
       "        vertical-align: top;\n",
       "    }\n",
       "\n",
       "    .dataframe thead th {\n",
       "        text-align: right;\n",
       "    }\n",
       "</style>\n",
       "<table border=\"1\" class=\"dataframe\">\n",
       "  <thead>\n",
       "    <tr style=\"text-align: right;\">\n",
       "      <th></th>\n",
       "      <th>Store_id</th>\n",
       "      <th>Store_Type</th>\n",
       "      <th>Location_Type</th>\n",
       "      <th>Region_Code</th>\n",
       "      <th>Holiday</th>\n",
       "      <th>Discount</th>\n",
       "      <th>Year</th>\n",
       "      <th>Month</th>\n",
       "      <th>Day</th>\n",
       "      <th>Week Day</th>\n",
       "      <th>Holidays in Year</th>\n",
       "    </tr>\n",
       "  </thead>\n",
       "  <tbody>\n",
       "    <tr>\n",
       "      <th>0</th>\n",
       "      <td>171</td>\n",
       "      <td>3</td>\n",
       "      <td>1</td>\n",
       "      <td>2</td>\n",
       "      <td>0</td>\n",
       "      <td>0</td>\n",
       "      <td>2019</td>\n",
       "      <td>06</td>\n",
       "      <td>01</td>\n",
       "      <td>2</td>\n",
       "      <td>21535</td>\n",
       "    </tr>\n",
       "    <tr>\n",
       "      <th>1</th>\n",
       "      <td>172</td>\n",
       "      <td>0</td>\n",
       "      <td>0</td>\n",
       "      <td>0</td>\n",
       "      <td>0</td>\n",
       "      <td>0</td>\n",
       "      <td>2019</td>\n",
       "      <td>06</td>\n",
       "      <td>01</td>\n",
       "      <td>2</td>\n",
       "      <td>21535</td>\n",
       "    </tr>\n",
       "    <tr>\n",
       "      <th>2</th>\n",
       "      <td>173</td>\n",
       "      <td>3</td>\n",
       "      <td>1</td>\n",
       "      <td>0</td>\n",
       "      <td>0</td>\n",
       "      <td>0</td>\n",
       "      <td>2019</td>\n",
       "      <td>06</td>\n",
       "      <td>01</td>\n",
       "      <td>2</td>\n",
       "      <td>21535</td>\n",
       "    </tr>\n",
       "    <tr>\n",
       "      <th>3</th>\n",
       "      <td>174</td>\n",
       "      <td>0</td>\n",
       "      <td>0</td>\n",
       "      <td>3</td>\n",
       "      <td>0</td>\n",
       "      <td>0</td>\n",
       "      <td>2019</td>\n",
       "      <td>06</td>\n",
       "      <td>01</td>\n",
       "      <td>2</td>\n",
       "      <td>21535</td>\n",
       "    </tr>\n",
       "    <tr>\n",
       "      <th>4</th>\n",
       "      <td>170</td>\n",
       "      <td>0</td>\n",
       "      <td>0</td>\n",
       "      <td>1</td>\n",
       "      <td>0</td>\n",
       "      <td>0</td>\n",
       "      <td>2019</td>\n",
       "      <td>06</td>\n",
       "      <td>01</td>\n",
       "      <td>2</td>\n",
       "      <td>21535</td>\n",
       "    </tr>\n",
       "  </tbody>\n",
       "</table>\n",
       "</div>"
      ],
      "text/plain": [
       "   Store_id  Store_Type  Location_Type  Region_Code  Holiday  Discount  Year  \\\n",
       "0       171           3              1            2        0         0  2019   \n",
       "1       172           0              0            0        0         0  2019   \n",
       "2       173           3              1            0        0         0  2019   \n",
       "3       174           0              0            3        0         0  2019   \n",
       "4       170           0              0            1        0         0  2019   \n",
       "\n",
       "  Month Day  Week Day  Holidays in Year  \n",
       "0    06  01         2             21535  \n",
       "1    06  01         2             21535  \n",
       "2    06  01         2             21535  \n",
       "3    06  01         2             21535  \n",
       "4    06  01         2             21535  "
      ]
     },
     "execution_count": 19,
     "metadata": {},
     "output_type": "execute_result"
    }
   ],
   "source": [
    "test_df['Holidays in Year'] = test_df.groupby(['Year','Holiday'])['Store_id'].transform('count')\n",
    "test_df.head()"
   ]
  },
  {
   "cell_type": "code",
   "execution_count": 20,
   "metadata": {
    "colab": {
     "base_uri": "https://localhost:8080/"
    },
    "executionInfo": {
     "elapsed": 24,
     "status": "ok",
     "timestamp": 1632049462967,
     "user": {
      "displayName": "Vineet Patel",
      "photoUrl": "https://lh3.googleusercontent.com/a-/AOh14Gg3orwxVwccrueaulqw9L98IBqGvNH1nEwdwiUP0Q=s64",
      "userId": "07760585287432952056"
     },
     "user_tz": -330
    },
    "id": "WNEqj2I-_DzH",
    "outputId": "97872dda-b3be-4578-83fd-25300aa7f6b2"
   },
   "outputs": [
    {
     "data": {
      "text/plain": [
       "Month  Holiday\n",
       "01     0          18980\n",
       "       1           3650\n",
       "02     0          18615\n",
       "       1           1825\n",
       "03     0          18980\n",
       "       1           3650\n",
       "04     0          17885\n",
       "       1           4015\n",
       "05     0          21170\n",
       "       1           1460\n",
       "06     0          10220\n",
       "       1            730\n",
       "07     0          10950\n",
       "       1            365\n",
       "08     0           9490\n",
       "       1           1825\n",
       "09     0           9855\n",
       "       1           1095\n",
       "10     0           8760\n",
       "       1           2555\n",
       "11     0           8030\n",
       "       1           2920\n",
       "12     0          10585\n",
       "       1            730\n",
       "Name: Store_id, dtype: int64"
      ]
     },
     "execution_count": 20,
     "metadata": {},
     "output_type": "execute_result"
    }
   ],
   "source": [
    "train_df.groupby(['Month','Holiday'])['Store_id'].count()"
   ]
  },
  {
   "cell_type": "code",
   "execution_count": 21,
   "metadata": {
    "colab": {
     "base_uri": "https://localhost:8080/",
     "height": 202
    },
    "executionInfo": {
     "elapsed": 20,
     "status": "ok",
     "timestamp": 1632049462967,
     "user": {
      "displayName": "Vineet Patel",
      "photoUrl": "https://lh3.googleusercontent.com/a-/AOh14Gg3orwxVwccrueaulqw9L98IBqGvNH1nEwdwiUP0Q=s64",
      "userId": "07760585287432952056"
     },
     "user_tz": -330
    },
    "id": "HTipHAqOvrQl",
    "outputId": "8a977400-273d-4dda-bf66-31f870718a6c"
   },
   "outputs": [
    {
     "data": {
      "text/html": [
       "<div>\n",
       "<style scoped>\n",
       "    .dataframe tbody tr th:only-of-type {\n",
       "        vertical-align: middle;\n",
       "    }\n",
       "\n",
       "    .dataframe tbody tr th {\n",
       "        vertical-align: top;\n",
       "    }\n",
       "\n",
       "    .dataframe thead th {\n",
       "        text-align: right;\n",
       "    }\n",
       "</style>\n",
       "<table border=\"1\" class=\"dataframe\">\n",
       "  <thead>\n",
       "    <tr style=\"text-align: right;\">\n",
       "      <th></th>\n",
       "      <th>Store_id</th>\n",
       "      <th>Store_Type</th>\n",
       "      <th>Location_Type</th>\n",
       "      <th>Region_Code</th>\n",
       "      <th>Holiday</th>\n",
       "      <th>Discount</th>\n",
       "      <th>Sales</th>\n",
       "      <th>Year</th>\n",
       "      <th>Month</th>\n",
       "      <th>Day</th>\n",
       "      <th>Week Day</th>\n",
       "      <th>Holidays in Year</th>\n",
       "      <th>Holidays in Month</th>\n",
       "    </tr>\n",
       "  </thead>\n",
       "  <tbody>\n",
       "    <tr>\n",
       "      <th>0</th>\n",
       "      <td>1</td>\n",
       "      <td>0</td>\n",
       "      <td>2</td>\n",
       "      <td>0</td>\n",
       "      <td>1</td>\n",
       "      <td>1</td>\n",
       "      <td>7011.84</td>\n",
       "      <td>2018</td>\n",
       "      <td>01</td>\n",
       "      <td>01</td>\n",
       "      <td>1</td>\n",
       "      <td>17155</td>\n",
       "      <td>3650</td>\n",
       "    </tr>\n",
       "    <tr>\n",
       "      <th>1</th>\n",
       "      <td>253</td>\n",
       "      <td>3</td>\n",
       "      <td>1</td>\n",
       "      <td>0</td>\n",
       "      <td>1</td>\n",
       "      <td>1</td>\n",
       "      <td>51789.12</td>\n",
       "      <td>2018</td>\n",
       "      <td>01</td>\n",
       "      <td>01</td>\n",
       "      <td>1</td>\n",
       "      <td>17155</td>\n",
       "      <td>3650</td>\n",
       "    </tr>\n",
       "    <tr>\n",
       "      <th>2</th>\n",
       "      <td>252</td>\n",
       "      <td>2</td>\n",
       "      <td>1</td>\n",
       "      <td>0</td>\n",
       "      <td>1</td>\n",
       "      <td>1</td>\n",
       "      <td>36868.20</td>\n",
       "      <td>2018</td>\n",
       "      <td>01</td>\n",
       "      <td>01</td>\n",
       "      <td>1</td>\n",
       "      <td>17155</td>\n",
       "      <td>3650</td>\n",
       "    </tr>\n",
       "    <tr>\n",
       "      <th>3</th>\n",
       "      <td>251</td>\n",
       "      <td>1</td>\n",
       "      <td>2</td>\n",
       "      <td>0</td>\n",
       "      <td>1</td>\n",
       "      <td>1</td>\n",
       "      <td>19715.16</td>\n",
       "      <td>2018</td>\n",
       "      <td>01</td>\n",
       "      <td>01</td>\n",
       "      <td>1</td>\n",
       "      <td>17155</td>\n",
       "      <td>3650</td>\n",
       "    </tr>\n",
       "    <tr>\n",
       "      <th>4</th>\n",
       "      <td>250</td>\n",
       "      <td>1</td>\n",
       "      <td>2</td>\n",
       "      <td>3</td>\n",
       "      <td>1</td>\n",
       "      <td>1</td>\n",
       "      <td>45614.52</td>\n",
       "      <td>2018</td>\n",
       "      <td>01</td>\n",
       "      <td>01</td>\n",
       "      <td>1</td>\n",
       "      <td>17155</td>\n",
       "      <td>3650</td>\n",
       "    </tr>\n",
       "  </tbody>\n",
       "</table>\n",
       "</div>"
      ],
      "text/plain": [
       "   Store_id  Store_Type  Location_Type  Region_Code  Holiday  Discount  \\\n",
       "0         1           0              2            0        1         1   \n",
       "1       253           3              1            0        1         1   \n",
       "2       252           2              1            0        1         1   \n",
       "3       251           1              2            0        1         1   \n",
       "4       250           1              2            3        1         1   \n",
       "\n",
       "      Sales  Year Month Day  Week Day  Holidays in Year  Holidays in Month  \n",
       "0   7011.84  2018    01  01         1             17155               3650  \n",
       "1  51789.12  2018    01  01         1             17155               3650  \n",
       "2  36868.20  2018    01  01         1             17155               3650  \n",
       "3  19715.16  2018    01  01         1             17155               3650  \n",
       "4  45614.52  2018    01  01         1             17155               3650  "
      ]
     },
     "execution_count": 21,
     "metadata": {},
     "output_type": "execute_result"
    }
   ],
   "source": [
    "train_df['Holidays in Month'] = train_df.groupby(['Month','Holiday'])['Store_id'].transform('count')\n",
    "train_df.head()"
   ]
  },
  {
   "cell_type": "code",
   "execution_count": 22,
   "metadata": {
    "colab": {
     "base_uri": "https://localhost:8080/",
     "height": 202
    },
    "executionInfo": {
     "elapsed": 19,
     "status": "ok",
     "timestamp": 1632049462968,
     "user": {
      "displayName": "Vineet Patel",
      "photoUrl": "https://lh3.googleusercontent.com/a-/AOh14Gg3orwxVwccrueaulqw9L98IBqGvNH1nEwdwiUP0Q=s64",
      "userId": "07760585287432952056"
     },
     "user_tz": -330
    },
    "id": "3RJ30JA12GbO",
    "outputId": "6559932d-a538-4648-a33b-3aacb2d1b4a4"
   },
   "outputs": [
    {
     "data": {
      "text/html": [
       "<div>\n",
       "<style scoped>\n",
       "    .dataframe tbody tr th:only-of-type {\n",
       "        vertical-align: middle;\n",
       "    }\n",
       "\n",
       "    .dataframe tbody tr th {\n",
       "        vertical-align: top;\n",
       "    }\n",
       "\n",
       "    .dataframe thead th {\n",
       "        text-align: right;\n",
       "    }\n",
       "</style>\n",
       "<table border=\"1\" class=\"dataframe\">\n",
       "  <thead>\n",
       "    <tr style=\"text-align: right;\">\n",
       "      <th></th>\n",
       "      <th>Store_id</th>\n",
       "      <th>Store_Type</th>\n",
       "      <th>Location_Type</th>\n",
       "      <th>Region_Code</th>\n",
       "      <th>Holiday</th>\n",
       "      <th>Discount</th>\n",
       "      <th>Year</th>\n",
       "      <th>Month</th>\n",
       "      <th>Day</th>\n",
       "      <th>Week Day</th>\n",
       "      <th>Holidays in Year</th>\n",
       "      <th>Holidays in Month</th>\n",
       "    </tr>\n",
       "  </thead>\n",
       "  <tbody>\n",
       "    <tr>\n",
       "      <th>0</th>\n",
       "      <td>171</td>\n",
       "      <td>3</td>\n",
       "      <td>1</td>\n",
       "      <td>2</td>\n",
       "      <td>0</td>\n",
       "      <td>0</td>\n",
       "      <td>2019</td>\n",
       "      <td>06</td>\n",
       "      <td>01</td>\n",
       "      <td>2</td>\n",
       "      <td>21535</td>\n",
       "      <td>10585</td>\n",
       "    </tr>\n",
       "    <tr>\n",
       "      <th>1</th>\n",
       "      <td>172</td>\n",
       "      <td>0</td>\n",
       "      <td>0</td>\n",
       "      <td>0</td>\n",
       "      <td>0</td>\n",
       "      <td>0</td>\n",
       "      <td>2019</td>\n",
       "      <td>06</td>\n",
       "      <td>01</td>\n",
       "      <td>2</td>\n",
       "      <td>21535</td>\n",
       "      <td>10585</td>\n",
       "    </tr>\n",
       "    <tr>\n",
       "      <th>2</th>\n",
       "      <td>173</td>\n",
       "      <td>3</td>\n",
       "      <td>1</td>\n",
       "      <td>0</td>\n",
       "      <td>0</td>\n",
       "      <td>0</td>\n",
       "      <td>2019</td>\n",
       "      <td>06</td>\n",
       "      <td>01</td>\n",
       "      <td>2</td>\n",
       "      <td>21535</td>\n",
       "      <td>10585</td>\n",
       "    </tr>\n",
       "    <tr>\n",
       "      <th>3</th>\n",
       "      <td>174</td>\n",
       "      <td>0</td>\n",
       "      <td>0</td>\n",
       "      <td>3</td>\n",
       "      <td>0</td>\n",
       "      <td>0</td>\n",
       "      <td>2019</td>\n",
       "      <td>06</td>\n",
       "      <td>01</td>\n",
       "      <td>2</td>\n",
       "      <td>21535</td>\n",
       "      <td>10585</td>\n",
       "    </tr>\n",
       "    <tr>\n",
       "      <th>4</th>\n",
       "      <td>170</td>\n",
       "      <td>0</td>\n",
       "      <td>0</td>\n",
       "      <td>1</td>\n",
       "      <td>0</td>\n",
       "      <td>0</td>\n",
       "      <td>2019</td>\n",
       "      <td>06</td>\n",
       "      <td>01</td>\n",
       "      <td>2</td>\n",
       "      <td>21535</td>\n",
       "      <td>10585</td>\n",
       "    </tr>\n",
       "  </tbody>\n",
       "</table>\n",
       "</div>"
      ],
      "text/plain": [
       "   Store_id  Store_Type  Location_Type  Region_Code  Holiday  Discount  Year  \\\n",
       "0       171           3              1            2        0         0  2019   \n",
       "1       172           0              0            0        0         0  2019   \n",
       "2       173           3              1            0        0         0  2019   \n",
       "3       174           0              0            3        0         0  2019   \n",
       "4       170           0              0            1        0         0  2019   \n",
       "\n",
       "  Month Day  Week Day  Holidays in Year  Holidays in Month  \n",
       "0    06  01         2             21535              10585  \n",
       "1    06  01         2             21535              10585  \n",
       "2    06  01         2             21535              10585  \n",
       "3    06  01         2             21535              10585  \n",
       "4    06  01         2             21535              10585  "
      ]
     },
     "execution_count": 22,
     "metadata": {},
     "output_type": "execute_result"
    }
   ],
   "source": [
    "test_df['Holidays in Month'] = test_df.groupby(['Month','Holiday'])['Store_id'].transform('count')\n",
    "test_df.head()"
   ]
  },
  {
   "cell_type": "code",
   "execution_count": 23,
   "metadata": {
    "colab": {
     "base_uri": "https://localhost:8080/"
    },
    "executionInfo": {
     "elapsed": 20,
     "status": "ok",
     "timestamp": 1632049462969,
     "user": {
      "displayName": "Vineet Patel",
      "photoUrl": "https://lh3.googleusercontent.com/a-/AOh14Gg3orwxVwccrueaulqw9L98IBqGvNH1nEwdwiUP0Q=s64",
      "userId": "07760585287432952056"
     },
     "user_tz": -330
    },
    "id": "tWsBp-E3_pYK",
    "outputId": "aa168d20-ee76-4c51-d73c-7162db0ebb81"
   },
   "outputs": [
    {
     "data": {
      "text/plain": [
       "Year  Discount\n",
       "2018  0           72321\n",
       "      1           60904\n",
       "2019  0           31730\n",
       "      1           23385\n",
       "Name: Store_id, dtype: int64"
      ]
     },
     "execution_count": 23,
     "metadata": {},
     "output_type": "execute_result"
    }
   ],
   "source": [
    "train_df.groupby(['Year','Discount'])['Store_id'].count()"
   ]
  },
  {
   "cell_type": "code",
   "execution_count": 24,
   "metadata": {
    "colab": {
     "base_uri": "https://localhost:8080/",
     "height": 202
    },
    "executionInfo": {
     "elapsed": 16,
     "status": "ok",
     "timestamp": 1632049462969,
     "user": {
      "displayName": "Vineet Patel",
      "photoUrl": "https://lh3.googleusercontent.com/a-/AOh14Gg3orwxVwccrueaulqw9L98IBqGvNH1nEwdwiUP0Q=s64",
      "userId": "07760585287432952056"
     },
     "user_tz": -330
    },
    "id": "BaX0a9UVv3rw",
    "outputId": "ae650e1b-42bd-4613-e337-9fd6960af189"
   },
   "outputs": [
    {
     "data": {
      "text/html": [
       "<div>\n",
       "<style scoped>\n",
       "    .dataframe tbody tr th:only-of-type {\n",
       "        vertical-align: middle;\n",
       "    }\n",
       "\n",
       "    .dataframe tbody tr th {\n",
       "        vertical-align: top;\n",
       "    }\n",
       "\n",
       "    .dataframe thead th {\n",
       "        text-align: right;\n",
       "    }\n",
       "</style>\n",
       "<table border=\"1\" class=\"dataframe\">\n",
       "  <thead>\n",
       "    <tr style=\"text-align: right;\">\n",
       "      <th></th>\n",
       "      <th>Store_id</th>\n",
       "      <th>Store_Type</th>\n",
       "      <th>Location_Type</th>\n",
       "      <th>Region_Code</th>\n",
       "      <th>Holiday</th>\n",
       "      <th>Discount</th>\n",
       "      <th>Sales</th>\n",
       "      <th>Year</th>\n",
       "      <th>Month</th>\n",
       "      <th>Day</th>\n",
       "      <th>Week Day</th>\n",
       "      <th>Holidays in Year</th>\n",
       "      <th>Holidays in Month</th>\n",
       "      <th>Dicounts in Year</th>\n",
       "    </tr>\n",
       "  </thead>\n",
       "  <tbody>\n",
       "    <tr>\n",
       "      <th>0</th>\n",
       "      <td>1</td>\n",
       "      <td>0</td>\n",
       "      <td>2</td>\n",
       "      <td>0</td>\n",
       "      <td>1</td>\n",
       "      <td>1</td>\n",
       "      <td>7011.84</td>\n",
       "      <td>2018</td>\n",
       "      <td>01</td>\n",
       "      <td>01</td>\n",
       "      <td>1</td>\n",
       "      <td>17155</td>\n",
       "      <td>3650</td>\n",
       "      <td>60904</td>\n",
       "    </tr>\n",
       "    <tr>\n",
       "      <th>1</th>\n",
       "      <td>253</td>\n",
       "      <td>3</td>\n",
       "      <td>1</td>\n",
       "      <td>0</td>\n",
       "      <td>1</td>\n",
       "      <td>1</td>\n",
       "      <td>51789.12</td>\n",
       "      <td>2018</td>\n",
       "      <td>01</td>\n",
       "      <td>01</td>\n",
       "      <td>1</td>\n",
       "      <td>17155</td>\n",
       "      <td>3650</td>\n",
       "      <td>60904</td>\n",
       "    </tr>\n",
       "    <tr>\n",
       "      <th>2</th>\n",
       "      <td>252</td>\n",
       "      <td>2</td>\n",
       "      <td>1</td>\n",
       "      <td>0</td>\n",
       "      <td>1</td>\n",
       "      <td>1</td>\n",
       "      <td>36868.20</td>\n",
       "      <td>2018</td>\n",
       "      <td>01</td>\n",
       "      <td>01</td>\n",
       "      <td>1</td>\n",
       "      <td>17155</td>\n",
       "      <td>3650</td>\n",
       "      <td>60904</td>\n",
       "    </tr>\n",
       "    <tr>\n",
       "      <th>3</th>\n",
       "      <td>251</td>\n",
       "      <td>1</td>\n",
       "      <td>2</td>\n",
       "      <td>0</td>\n",
       "      <td>1</td>\n",
       "      <td>1</td>\n",
       "      <td>19715.16</td>\n",
       "      <td>2018</td>\n",
       "      <td>01</td>\n",
       "      <td>01</td>\n",
       "      <td>1</td>\n",
       "      <td>17155</td>\n",
       "      <td>3650</td>\n",
       "      <td>60904</td>\n",
       "    </tr>\n",
       "    <tr>\n",
       "      <th>4</th>\n",
       "      <td>250</td>\n",
       "      <td>1</td>\n",
       "      <td>2</td>\n",
       "      <td>3</td>\n",
       "      <td>1</td>\n",
       "      <td>1</td>\n",
       "      <td>45614.52</td>\n",
       "      <td>2018</td>\n",
       "      <td>01</td>\n",
       "      <td>01</td>\n",
       "      <td>1</td>\n",
       "      <td>17155</td>\n",
       "      <td>3650</td>\n",
       "      <td>60904</td>\n",
       "    </tr>\n",
       "  </tbody>\n",
       "</table>\n",
       "</div>"
      ],
      "text/plain": [
       "   Store_id  Store_Type  Location_Type  Region_Code  Holiday  Discount  \\\n",
       "0         1           0              2            0        1         1   \n",
       "1       253           3              1            0        1         1   \n",
       "2       252           2              1            0        1         1   \n",
       "3       251           1              2            0        1         1   \n",
       "4       250           1              2            3        1         1   \n",
       "\n",
       "      Sales  Year Month Day  Week Day  Holidays in Year  Holidays in Month  \\\n",
       "0   7011.84  2018    01  01         1             17155               3650   \n",
       "1  51789.12  2018    01  01         1             17155               3650   \n",
       "2  36868.20  2018    01  01         1             17155               3650   \n",
       "3  19715.16  2018    01  01         1             17155               3650   \n",
       "4  45614.52  2018    01  01         1             17155               3650   \n",
       "\n",
       "   Dicounts in Year  \n",
       "0             60904  \n",
       "1             60904  \n",
       "2             60904  \n",
       "3             60904  \n",
       "4             60904  "
      ]
     },
     "execution_count": 24,
     "metadata": {},
     "output_type": "execute_result"
    }
   ],
   "source": [
    "train_df['Dicounts in Year'] = train_df.groupby(['Year','Discount'])['Store_id'].transform('count')\n",
    "train_df.head()"
   ]
  },
  {
   "cell_type": "code",
   "execution_count": 25,
   "metadata": {
    "colab": {
     "base_uri": "https://localhost:8080/",
     "height": 202
    },
    "executionInfo": {
     "elapsed": 686,
     "status": "ok",
     "timestamp": 1632049463639,
     "user": {
      "displayName": "Vineet Patel",
      "photoUrl": "https://lh3.googleusercontent.com/a-/AOh14Gg3orwxVwccrueaulqw9L98IBqGvNH1nEwdwiUP0Q=s64",
      "userId": "07760585287432952056"
     },
     "user_tz": -330
    },
    "id": "WdxOgG1f2MpK",
    "outputId": "7072d55f-8f48-4932-f8ba-7f5e25944b21"
   },
   "outputs": [
    {
     "data": {
      "text/html": [
       "<div>\n",
       "<style scoped>\n",
       "    .dataframe tbody tr th:only-of-type {\n",
       "        vertical-align: middle;\n",
       "    }\n",
       "\n",
       "    .dataframe tbody tr th {\n",
       "        vertical-align: top;\n",
       "    }\n",
       "\n",
       "    .dataframe thead th {\n",
       "        text-align: right;\n",
       "    }\n",
       "</style>\n",
       "<table border=\"1\" class=\"dataframe\">\n",
       "  <thead>\n",
       "    <tr style=\"text-align: right;\">\n",
       "      <th></th>\n",
       "      <th>Store_id</th>\n",
       "      <th>Store_Type</th>\n",
       "      <th>Location_Type</th>\n",
       "      <th>Region_Code</th>\n",
       "      <th>Holiday</th>\n",
       "      <th>Discount</th>\n",
       "      <th>Year</th>\n",
       "      <th>Month</th>\n",
       "      <th>Day</th>\n",
       "      <th>Week Day</th>\n",
       "      <th>Holidays in Year</th>\n",
       "      <th>Holidays in Month</th>\n",
       "      <th>Dicounts in Year</th>\n",
       "    </tr>\n",
       "  </thead>\n",
       "  <tbody>\n",
       "    <tr>\n",
       "      <th>0</th>\n",
       "      <td>171</td>\n",
       "      <td>3</td>\n",
       "      <td>1</td>\n",
       "      <td>2</td>\n",
       "      <td>0</td>\n",
       "      <td>0</td>\n",
       "      <td>2019</td>\n",
       "      <td>06</td>\n",
       "      <td>01</td>\n",
       "      <td>2</td>\n",
       "      <td>21535</td>\n",
       "      <td>10585</td>\n",
       "      <td>12773</td>\n",
       "    </tr>\n",
       "    <tr>\n",
       "      <th>1</th>\n",
       "      <td>172</td>\n",
       "      <td>0</td>\n",
       "      <td>0</td>\n",
       "      <td>0</td>\n",
       "      <td>0</td>\n",
       "      <td>0</td>\n",
       "      <td>2019</td>\n",
       "      <td>06</td>\n",
       "      <td>01</td>\n",
       "      <td>2</td>\n",
       "      <td>21535</td>\n",
       "      <td>10585</td>\n",
       "      <td>12773</td>\n",
       "    </tr>\n",
       "    <tr>\n",
       "      <th>2</th>\n",
       "      <td>173</td>\n",
       "      <td>3</td>\n",
       "      <td>1</td>\n",
       "      <td>0</td>\n",
       "      <td>0</td>\n",
       "      <td>0</td>\n",
       "      <td>2019</td>\n",
       "      <td>06</td>\n",
       "      <td>01</td>\n",
       "      <td>2</td>\n",
       "      <td>21535</td>\n",
       "      <td>10585</td>\n",
       "      <td>12773</td>\n",
       "    </tr>\n",
       "    <tr>\n",
       "      <th>3</th>\n",
       "      <td>174</td>\n",
       "      <td>0</td>\n",
       "      <td>0</td>\n",
       "      <td>3</td>\n",
       "      <td>0</td>\n",
       "      <td>0</td>\n",
       "      <td>2019</td>\n",
       "      <td>06</td>\n",
       "      <td>01</td>\n",
       "      <td>2</td>\n",
       "      <td>21535</td>\n",
       "      <td>10585</td>\n",
       "      <td>12773</td>\n",
       "    </tr>\n",
       "    <tr>\n",
       "      <th>4</th>\n",
       "      <td>170</td>\n",
       "      <td>0</td>\n",
       "      <td>0</td>\n",
       "      <td>1</td>\n",
       "      <td>0</td>\n",
       "      <td>0</td>\n",
       "      <td>2019</td>\n",
       "      <td>06</td>\n",
       "      <td>01</td>\n",
       "      <td>2</td>\n",
       "      <td>21535</td>\n",
       "      <td>10585</td>\n",
       "      <td>12773</td>\n",
       "    </tr>\n",
       "  </tbody>\n",
       "</table>\n",
       "</div>"
      ],
      "text/plain": [
       "   Store_id  Store_Type  Location_Type  Region_Code  Holiday  Discount  Year  \\\n",
       "0       171           3              1            2        0         0  2019   \n",
       "1       172           0              0            0        0         0  2019   \n",
       "2       173           3              1            0        0         0  2019   \n",
       "3       174           0              0            3        0         0  2019   \n",
       "4       170           0              0            1        0         0  2019   \n",
       "\n",
       "  Month Day  Week Day  Holidays in Year  Holidays in Month  Dicounts in Year  \n",
       "0    06  01         2             21535              10585             12773  \n",
       "1    06  01         2             21535              10585             12773  \n",
       "2    06  01         2             21535              10585             12773  \n",
       "3    06  01         2             21535              10585             12773  \n",
       "4    06  01         2             21535              10585             12773  "
      ]
     },
     "execution_count": 25,
     "metadata": {},
     "output_type": "execute_result"
    }
   ],
   "source": [
    "test_df['Dicounts in Year'] = test_df.groupby(['Year','Discount'])['Store_id'].transform('count')\n",
    "test_df.head()"
   ]
  },
  {
   "cell_type": "code",
   "execution_count": 26,
   "metadata": {
    "colab": {
     "base_uri": "https://localhost:8080/"
    },
    "executionInfo": {
     "elapsed": 22,
     "status": "ok",
     "timestamp": 1632049463640,
     "user": {
      "displayName": "Vineet Patel",
      "photoUrl": "https://lh3.googleusercontent.com/a-/AOh14Gg3orwxVwccrueaulqw9L98IBqGvNH1nEwdwiUP0Q=s64",
      "userId": "07760585287432952056"
     },
     "user_tz": -330
    },
    "id": "mr-M_zhH_ilM",
    "outputId": "31c46ab7-0a5f-4b40-b6fe-a41cd0338347"
   },
   "outputs": [
    {
     "data": {
      "text/plain": [
       "Month  Discount\n",
       "01     0           12285\n",
       "       1           10345\n",
       "02     0           12325\n",
       "       1            8115\n",
       "03     0           11876\n",
       "       1           10754\n",
       "04     0           13918\n",
       "       1            7982\n",
       "05     0           11644\n",
       "       1           10986\n",
       "06     0            5822\n",
       "       1            5128\n",
       "07     0            5940\n",
       "       1            5375\n",
       "08     0            5732\n",
       "       1            5583\n",
       "09     0            5619\n",
       "       1            5331\n",
       "10     0            5925\n",
       "       1            5390\n",
       "11     0            6504\n",
       "       1            4446\n",
       "12     0            6461\n",
       "       1            4854\n",
       "Name: Store_id, dtype: int64"
      ]
     },
     "execution_count": 26,
     "metadata": {},
     "output_type": "execute_result"
    }
   ],
   "source": [
    "train_df.groupby(['Month','Discount'])['Store_id'].count()"
   ]
  },
  {
   "cell_type": "code",
   "execution_count": 27,
   "metadata": {
    "colab": {
     "base_uri": "https://localhost:8080/",
     "height": 202
    },
    "executionInfo": {
     "elapsed": 19,
     "status": "ok",
     "timestamp": 1632049463641,
     "user": {
      "displayName": "Vineet Patel",
      "photoUrl": "https://lh3.googleusercontent.com/a-/AOh14Gg3orwxVwccrueaulqw9L98IBqGvNH1nEwdwiUP0Q=s64",
      "userId": "07760585287432952056"
     },
     "user_tz": -330
    },
    "id": "nJHnYy2dwCtn",
    "outputId": "5bcc254d-f122-4382-b1af-05a5dbff59fb"
   },
   "outputs": [
    {
     "data": {
      "text/html": [
       "<div>\n",
       "<style scoped>\n",
       "    .dataframe tbody tr th:only-of-type {\n",
       "        vertical-align: middle;\n",
       "    }\n",
       "\n",
       "    .dataframe tbody tr th {\n",
       "        vertical-align: top;\n",
       "    }\n",
       "\n",
       "    .dataframe thead th {\n",
       "        text-align: right;\n",
       "    }\n",
       "</style>\n",
       "<table border=\"1\" class=\"dataframe\">\n",
       "  <thead>\n",
       "    <tr style=\"text-align: right;\">\n",
       "      <th></th>\n",
       "      <th>Store_id</th>\n",
       "      <th>Store_Type</th>\n",
       "      <th>Location_Type</th>\n",
       "      <th>Region_Code</th>\n",
       "      <th>Holiday</th>\n",
       "      <th>Discount</th>\n",
       "      <th>Sales</th>\n",
       "      <th>Year</th>\n",
       "      <th>Month</th>\n",
       "      <th>Day</th>\n",
       "      <th>Week Day</th>\n",
       "      <th>Holidays in Year</th>\n",
       "      <th>Holidays in Month</th>\n",
       "      <th>Dicounts in Year</th>\n",
       "      <th>Dicounts in Month</th>\n",
       "    </tr>\n",
       "  </thead>\n",
       "  <tbody>\n",
       "    <tr>\n",
       "      <th>0</th>\n",
       "      <td>1</td>\n",
       "      <td>0</td>\n",
       "      <td>2</td>\n",
       "      <td>0</td>\n",
       "      <td>1</td>\n",
       "      <td>1</td>\n",
       "      <td>7011.84</td>\n",
       "      <td>2018</td>\n",
       "      <td>01</td>\n",
       "      <td>01</td>\n",
       "      <td>1</td>\n",
       "      <td>17155</td>\n",
       "      <td>3650</td>\n",
       "      <td>60904</td>\n",
       "      <td>10345</td>\n",
       "    </tr>\n",
       "    <tr>\n",
       "      <th>1</th>\n",
       "      <td>253</td>\n",
       "      <td>3</td>\n",
       "      <td>1</td>\n",
       "      <td>0</td>\n",
       "      <td>1</td>\n",
       "      <td>1</td>\n",
       "      <td>51789.12</td>\n",
       "      <td>2018</td>\n",
       "      <td>01</td>\n",
       "      <td>01</td>\n",
       "      <td>1</td>\n",
       "      <td>17155</td>\n",
       "      <td>3650</td>\n",
       "      <td>60904</td>\n",
       "      <td>10345</td>\n",
       "    </tr>\n",
       "    <tr>\n",
       "      <th>2</th>\n",
       "      <td>252</td>\n",
       "      <td>2</td>\n",
       "      <td>1</td>\n",
       "      <td>0</td>\n",
       "      <td>1</td>\n",
       "      <td>1</td>\n",
       "      <td>36868.20</td>\n",
       "      <td>2018</td>\n",
       "      <td>01</td>\n",
       "      <td>01</td>\n",
       "      <td>1</td>\n",
       "      <td>17155</td>\n",
       "      <td>3650</td>\n",
       "      <td>60904</td>\n",
       "      <td>10345</td>\n",
       "    </tr>\n",
       "    <tr>\n",
       "      <th>3</th>\n",
       "      <td>251</td>\n",
       "      <td>1</td>\n",
       "      <td>2</td>\n",
       "      <td>0</td>\n",
       "      <td>1</td>\n",
       "      <td>1</td>\n",
       "      <td>19715.16</td>\n",
       "      <td>2018</td>\n",
       "      <td>01</td>\n",
       "      <td>01</td>\n",
       "      <td>1</td>\n",
       "      <td>17155</td>\n",
       "      <td>3650</td>\n",
       "      <td>60904</td>\n",
       "      <td>10345</td>\n",
       "    </tr>\n",
       "    <tr>\n",
       "      <th>4</th>\n",
       "      <td>250</td>\n",
       "      <td>1</td>\n",
       "      <td>2</td>\n",
       "      <td>3</td>\n",
       "      <td>1</td>\n",
       "      <td>1</td>\n",
       "      <td>45614.52</td>\n",
       "      <td>2018</td>\n",
       "      <td>01</td>\n",
       "      <td>01</td>\n",
       "      <td>1</td>\n",
       "      <td>17155</td>\n",
       "      <td>3650</td>\n",
       "      <td>60904</td>\n",
       "      <td>10345</td>\n",
       "    </tr>\n",
       "  </tbody>\n",
       "</table>\n",
       "</div>"
      ],
      "text/plain": [
       "   Store_id  Store_Type  Location_Type  Region_Code  Holiday  Discount  \\\n",
       "0         1           0              2            0        1         1   \n",
       "1       253           3              1            0        1         1   \n",
       "2       252           2              1            0        1         1   \n",
       "3       251           1              2            0        1         1   \n",
       "4       250           1              2            3        1         1   \n",
       "\n",
       "      Sales  Year Month Day  Week Day  Holidays in Year  Holidays in Month  \\\n",
       "0   7011.84  2018    01  01         1             17155               3650   \n",
       "1  51789.12  2018    01  01         1             17155               3650   \n",
       "2  36868.20  2018    01  01         1             17155               3650   \n",
       "3  19715.16  2018    01  01         1             17155               3650   \n",
       "4  45614.52  2018    01  01         1             17155               3650   \n",
       "\n",
       "   Dicounts in Year  Dicounts in Month  \n",
       "0             60904              10345  \n",
       "1             60904              10345  \n",
       "2             60904              10345  \n",
       "3             60904              10345  \n",
       "4             60904              10345  "
      ]
     },
     "execution_count": 27,
     "metadata": {},
     "output_type": "execute_result"
    }
   ],
   "source": [
    "train_df['Dicounts in Month'] = train_df.groupby(['Month','Discount'])['Store_id'].transform('count')\n",
    "train_df.head()"
   ]
  },
  {
   "cell_type": "code",
   "execution_count": 28,
   "metadata": {
    "colab": {
     "base_uri": "https://localhost:8080/",
     "height": 202
    },
    "executionInfo": {
     "elapsed": 19,
     "status": "ok",
     "timestamp": 1632049463641,
     "user": {
      "displayName": "Vineet Patel",
      "photoUrl": "https://lh3.googleusercontent.com/a-/AOh14Gg3orwxVwccrueaulqw9L98IBqGvNH1nEwdwiUP0Q=s64",
      "userId": "07760585287432952056"
     },
     "user_tz": -330
    },
    "id": "2lIPds1F2Qyq",
    "outputId": "d808d00d-ea5d-4f75-cd42-745138732608"
   },
   "outputs": [
    {
     "data": {
      "text/html": [
       "<div>\n",
       "<style scoped>\n",
       "    .dataframe tbody tr th:only-of-type {\n",
       "        vertical-align: middle;\n",
       "    }\n",
       "\n",
       "    .dataframe tbody tr th {\n",
       "        vertical-align: top;\n",
       "    }\n",
       "\n",
       "    .dataframe thead th {\n",
       "        text-align: right;\n",
       "    }\n",
       "</style>\n",
       "<table border=\"1\" class=\"dataframe\">\n",
       "  <thead>\n",
       "    <tr style=\"text-align: right;\">\n",
       "      <th></th>\n",
       "      <th>Store_id</th>\n",
       "      <th>Store_Type</th>\n",
       "      <th>Location_Type</th>\n",
       "      <th>Region_Code</th>\n",
       "      <th>Holiday</th>\n",
       "      <th>Discount</th>\n",
       "      <th>Year</th>\n",
       "      <th>Month</th>\n",
       "      <th>Day</th>\n",
       "      <th>Week Day</th>\n",
       "      <th>Holidays in Year</th>\n",
       "      <th>Holidays in Month</th>\n",
       "      <th>Dicounts in Year</th>\n",
       "      <th>Dicounts in Month</th>\n",
       "    </tr>\n",
       "  </thead>\n",
       "  <tbody>\n",
       "    <tr>\n",
       "      <th>0</th>\n",
       "      <td>171</td>\n",
       "      <td>3</td>\n",
       "      <td>1</td>\n",
       "      <td>2</td>\n",
       "      <td>0</td>\n",
       "      <td>0</td>\n",
       "      <td>2019</td>\n",
       "      <td>06</td>\n",
       "      <td>01</td>\n",
       "      <td>2</td>\n",
       "      <td>21535</td>\n",
       "      <td>10585</td>\n",
       "      <td>12773</td>\n",
       "      <td>6227</td>\n",
       "    </tr>\n",
       "    <tr>\n",
       "      <th>1</th>\n",
       "      <td>172</td>\n",
       "      <td>0</td>\n",
       "      <td>0</td>\n",
       "      <td>0</td>\n",
       "      <td>0</td>\n",
       "      <td>0</td>\n",
       "      <td>2019</td>\n",
       "      <td>06</td>\n",
       "      <td>01</td>\n",
       "      <td>2</td>\n",
       "      <td>21535</td>\n",
       "      <td>10585</td>\n",
       "      <td>12773</td>\n",
       "      <td>6227</td>\n",
       "    </tr>\n",
       "    <tr>\n",
       "      <th>2</th>\n",
       "      <td>173</td>\n",
       "      <td>3</td>\n",
       "      <td>1</td>\n",
       "      <td>0</td>\n",
       "      <td>0</td>\n",
       "      <td>0</td>\n",
       "      <td>2019</td>\n",
       "      <td>06</td>\n",
       "      <td>01</td>\n",
       "      <td>2</td>\n",
       "      <td>21535</td>\n",
       "      <td>10585</td>\n",
       "      <td>12773</td>\n",
       "      <td>6227</td>\n",
       "    </tr>\n",
       "    <tr>\n",
       "      <th>3</th>\n",
       "      <td>174</td>\n",
       "      <td>0</td>\n",
       "      <td>0</td>\n",
       "      <td>3</td>\n",
       "      <td>0</td>\n",
       "      <td>0</td>\n",
       "      <td>2019</td>\n",
       "      <td>06</td>\n",
       "      <td>01</td>\n",
       "      <td>2</td>\n",
       "      <td>21535</td>\n",
       "      <td>10585</td>\n",
       "      <td>12773</td>\n",
       "      <td>6227</td>\n",
       "    </tr>\n",
       "    <tr>\n",
       "      <th>4</th>\n",
       "      <td>170</td>\n",
       "      <td>0</td>\n",
       "      <td>0</td>\n",
       "      <td>1</td>\n",
       "      <td>0</td>\n",
       "      <td>0</td>\n",
       "      <td>2019</td>\n",
       "      <td>06</td>\n",
       "      <td>01</td>\n",
       "      <td>2</td>\n",
       "      <td>21535</td>\n",
       "      <td>10585</td>\n",
       "      <td>12773</td>\n",
       "      <td>6227</td>\n",
       "    </tr>\n",
       "  </tbody>\n",
       "</table>\n",
       "</div>"
      ],
      "text/plain": [
       "   Store_id  Store_Type  Location_Type  Region_Code  Holiday  Discount  Year  \\\n",
       "0       171           3              1            2        0         0  2019   \n",
       "1       172           0              0            0        0         0  2019   \n",
       "2       173           3              1            0        0         0  2019   \n",
       "3       174           0              0            3        0         0  2019   \n",
       "4       170           0              0            1        0         0  2019   \n",
       "\n",
       "  Month Day  Week Day  Holidays in Year  Holidays in Month  Dicounts in Year  \\\n",
       "0    06  01         2             21535              10585             12773   \n",
       "1    06  01         2             21535              10585             12773   \n",
       "2    06  01         2             21535              10585             12773   \n",
       "3    06  01         2             21535              10585             12773   \n",
       "4    06  01         2             21535              10585             12773   \n",
       "\n",
       "   Dicounts in Month  \n",
       "0               6227  \n",
       "1               6227  \n",
       "2               6227  \n",
       "3               6227  \n",
       "4               6227  "
      ]
     },
     "execution_count": 28,
     "metadata": {},
     "output_type": "execute_result"
    }
   ],
   "source": [
    "test_df['Dicounts in Month'] = test_df.groupby(['Month','Discount'])['Store_id'].transform('count')\n",
    "test_df.head()"
   ]
  },
  {
   "cell_type": "code",
   "execution_count": 29,
   "metadata": {
    "colab": {
     "base_uri": "https://localhost:8080/"
    },
    "executionInfo": {
     "elapsed": 19,
     "status": "ok",
     "timestamp": 1632049463642,
     "user": {
      "displayName": "Vineet Patel",
      "photoUrl": "https://lh3.googleusercontent.com/a-/AOh14Gg3orwxVwccrueaulqw9L98IBqGvNH1nEwdwiUP0Q=s64",
      "userId": "07760585287432952056"
     },
     "user_tz": -330
    },
    "id": "8cP1MfvGxVyq",
    "outputId": "86c03469-afdc-48a8-96cc-a68af92db90a"
   },
   "outputs": [
    {
     "name": "stdout",
     "output_type": "stream",
     "text": [
      "<class 'pandas.core.frame.DataFrame'>\n",
      "RangeIndex: 188340 entries, 0 to 188339\n",
      "Data columns (total 15 columns):\n",
      " #   Column             Non-Null Count   Dtype  \n",
      "---  ------             --------------   -----  \n",
      " 0   Store_id           188340 non-null  int64  \n",
      " 1   Store_Type         188340 non-null  int32  \n",
      " 2   Location_Type      188340 non-null  int32  \n",
      " 3   Region_Code        188340 non-null  int32  \n",
      " 4   Holiday            188340 non-null  int64  \n",
      " 5   Discount           188340 non-null  int32  \n",
      " 6   Sales              188340 non-null  float64\n",
      " 7   Year               188340 non-null  int32  \n",
      " 8   Month              188340 non-null  int32  \n",
      " 9   Day                188340 non-null  int32  \n",
      " 10  Week Day           188340 non-null  int32  \n",
      " 11  Holidays in Year   188340 non-null  int64  \n",
      " 12  Holidays in Month  188340 non-null  int64  \n",
      " 13  Dicounts in Year   188340 non-null  int64  \n",
      " 14  Dicounts in Month  188340 non-null  int64  \n",
      "dtypes: float64(1), int32(8), int64(6)\n",
      "memory usage: 15.8 MB\n"
     ]
    }
   ],
   "source": [
    "train_df['Year'] = train_df['Year'].astype('int')\n",
    "train_df['Month'] = train_df['Month'].astype('int')\n",
    "train_df['Day'] = train_df['Day'].astype('int')\n",
    "train_df.info()"
   ]
  },
  {
   "cell_type": "code",
   "execution_count": 30,
   "metadata": {
    "colab": {
     "base_uri": "https://localhost:8080/"
    },
    "executionInfo": {
     "elapsed": 17,
     "status": "ok",
     "timestamp": 1632049463644,
     "user": {
      "displayName": "Vineet Patel",
      "photoUrl": "https://lh3.googleusercontent.com/a-/AOh14Gg3orwxVwccrueaulqw9L98IBqGvNH1nEwdwiUP0Q=s64",
      "userId": "07760585287432952056"
     },
     "user_tz": -330
    },
    "id": "4K_vINJ52fiw",
    "outputId": "34cd7823-da34-493c-c5e5-7b38b936c741"
   },
   "outputs": [
    {
     "name": "stdout",
     "output_type": "stream",
     "text": [
      "<class 'pandas.core.frame.DataFrame'>\n",
      "RangeIndex: 22265 entries, 0 to 22264\n",
      "Data columns (total 14 columns):\n",
      " #   Column             Non-Null Count  Dtype\n",
      "---  ------             --------------  -----\n",
      " 0   Store_id           22265 non-null  int64\n",
      " 1   Store_Type         22265 non-null  int32\n",
      " 2   Location_Type      22265 non-null  int32\n",
      " 3   Region_Code        22265 non-null  int32\n",
      " 4   Holiday            22265 non-null  int64\n",
      " 5   Discount           22265 non-null  int32\n",
      " 6   Year               22265 non-null  int32\n",
      " 7   Month              22265 non-null  int32\n",
      " 8   Day                22265 non-null  int32\n",
      " 9   Week Day           22265 non-null  int32\n",
      " 10  Holidays in Year   22265 non-null  int64\n",
      " 11  Holidays in Month  22265 non-null  int64\n",
      " 12  Dicounts in Year   22265 non-null  int64\n",
      " 13  Dicounts in Month  22265 non-null  int64\n",
      "dtypes: int32(8), int64(6)\n",
      "memory usage: 1.7 MB\n"
     ]
    }
   ],
   "source": [
    "test_df['Year'] = test_df['Year'].astype('int')\n",
    "test_df['Month'] = test_df['Month'].astype('int')\n",
    "test_df['Day'] = test_df['Day'].astype('int')\n",
    "test_df.info()"
   ]
  },
  {
   "cell_type": "code",
   "execution_count": 31,
   "metadata": {
    "colab": {
     "base_uri": "https://localhost:8080/",
     "height": 676
    },
    "executionInfo": {
     "elapsed": 887,
     "status": "ok",
     "timestamp": 1632049464519,
     "user": {
      "displayName": "Vineet Patel",
      "photoUrl": "https://lh3.googleusercontent.com/a-/AOh14Gg3orwxVwccrueaulqw9L98IBqGvNH1nEwdwiUP0Q=s64",
      "userId": "07760585287432952056"
     },
     "user_tz": -330
    },
    "id": "v5U8hyRn6MPG",
    "outputId": "42ae9da6-95c2-4794-ec40-e03c05fac047"
   },
   "outputs": [
    {
     "data": {
      "image/png": "[encoded data removed]",
      "text/plain": [
       "<Figure size 1500x1000 with 2 Axes>"
      ]
     },
     "metadata": {},
     "output_type": "display_data"
    }
   ],
   "source": [
    "plt.figure(figsize=(15,10))\n",
    "sns.heatmap(train_df.corr())\n",
    "plt.show()"
   ]
  },
  {
   "cell_type": "code",
   "execution_count": 32,
   "metadata": {
    "id": "AY26Akm7yCyH"
   },
   "outputs": [],
   "source": [
    "train_X = train_df.drop(['Sales'],axis=1)\n",
    "train_Y = train_df['Sales']"
   ]
  },
  {
   "cell_type": "code",
   "execution_count": 33,
   "metadata": {
    "id": "eXr5aoNRcbH-"
   },
   "outputs": [],
   "source": [
    "from sklearn.preprocessing import StandardScaler\n",
    "scaler = StandardScaler()"
   ]
  },
  {
   "cell_type": "code",
   "execution_count": 34,
   "metadata": {
    "id": "ZdgczZeQdNHd"
   },
   "outputs": [],
   "source": [
    "scaled_train_X = scaler.fit_transform(train_X)\n",
    "scaled_test_X = scaler.fit_transform(test_df)"
   ]
  },
  {
   "cell_type": "code",
   "execution_count": 35,
   "metadata": {
    "id": "28E4M77Tdzqw"
   },
   "outputs": [],
   "source": [
    "from sklearn.metrics import r2_score,mean_squared_error,accuracy_score\n",
    "from sklearn.model_selection import train_test_split\n",
    "X_train, X_valid, Y_train, Y_valid = train_test_split(scaled_train_X,train_Y,test_size=0.25,random_state=42)"
   ]
  },
  {
   "cell_type": "markdown",
   "metadata": {
    "id": "b4olr_MyvF1F"
   },
   "source": [
    "# Hyper Paramter Tuning"
   ]
  },
  {
   "cell_type": "code",
   "execution_count": 36,
   "metadata": {
    "id": "LuskDnWgdhv0"
   },
   "outputs": [],
   "source": [
    "from sklearn.model_selection import GridSearchCV"
   ]
  },
  {
   "cell_type": "markdown",
   "metadata": {
    "id": "DVzVYCk8vLok"
   },
   "source": [
    "## Linear Regression"
   ]
  },
  {
   "cell_type": "code",
   "execution_count": 37,
   "metadata": {
    "colab": {
     "base_uri": "https://localhost:8080/"
    },
    "executionInfo": {
     "elapsed": 7,
     "status": "ok",
     "timestamp": 1632049570554,
     "user": {
      "displayName": "Vineet Patel",
      "photoUrl": "https://lh3.googleusercontent.com/a-/AOh14Gg3orwxVwccrueaulqw9L98IBqGvNH1nEwdwiUP0Q=s64",
      "userId": "07760585287432952056"
     },
     "user_tz": -330
    },
    "id": "gdcPfw62mPuZ",
    "outputId": "a6f676d6-bf59-4f9a-c0d9-7709d8e8030b"
   },
   "outputs": [
    {
     "data": {
      "text/plain": [
       "{'copy_X': True, 'fit_intercept': True, 'n_jobs': None, 'positive': False}"
      ]
     },
     "execution_count": 37,
     "metadata": {},
     "output_type": "execute_result"
    }
   ],
   "source": [
    "from sklearn.linear_model import LinearRegression\n",
    "LinearRegression().get_params()"
   ]
  },
  {
   "cell_type": "code",
   "execution_count": 38,
   "metadata": {
    "colab": {
     "base_uri": "https://localhost:8080/"
    },
    "executionInfo": {
     "elapsed": 4342,
     "status": "ok",
     "timestamp": 1632049574893,
     "user": {
      "displayName": "Vineet Patel",
      "photoUrl": "https://lh3.googleusercontent.com/a-/AOh14Gg3orwxVwccrueaulqw9L98IBqGvNH1nEwdwiUP0Q=s64",
      "userId": "07760585287432952056"
     },
     "user_tz": -330
    },
    "id": "aHw08Ef4mCi_",
    "outputId": "1f6c801a-9df8-4514-e8ab-a53847025963"
   },
   "outputs": [
    {
     "name": "stdout",
     "output_type": "stream",
     "text": [
      "Fitting 5 folds for each of 4 candidates, totalling 20 fits\n",
      "\n",
      "\n",
      "Train Accuracy:  0.4348903850828726\n",
      "Validation Accuracy:  0.43196676736520256\n",
      "\n",
      "Train RMSE Error:  13894.42257893147\n",
      "Validation RMSE Error:  13850.4124472943\n"
     ]
    }
   ],
   "source": [
    "param_grid_lr = {'copy_X':[True,False],              \n",
    "              'fit_intercept':[True,False]\n",
    "              }  \n",
    "grid_lr = GridSearchCV(LinearRegression(), param_grid_lr, refit = True, verbose = 3,n_jobs=-1) \n",
    "grid_lr.fit(X_train,Y_train) \n",
    "\n",
    "print('\\n')\n",
    "\n",
    "Y1_train_pred = grid_lr.predict(X_train)\n",
    "Y1_valid_pred = grid_lr.predict(X_valid)\n",
    "\n",
    "print(\"Train Accuracy: \",r2_score(Y_train,Y1_train_pred))\n",
    "print(\"Validation Accuracy: \",r2_score(Y_valid,Y1_valid_pred))\n",
    "\n",
    "print('')\n",
    "\n",
    "print(\"Train RMSE Error: \",np.sqrt(mean_squared_error(Y_train,Y1_train_pred)))\n",
    "print(\"Validation RMSE Error: \",np.sqrt(mean_squared_error(Y_valid,Y1_valid_pred)))"
   ]
  },
  {
   "cell_type": "markdown",
   "metadata": {
    "id": "t8OetcqWvOTh"
   },
   "source": [
    "##K-NN"
   ]
  },
  {
   "cell_type": "code",
   "execution_count": 39,
   "metadata": {
    "colab": {
     "base_uri": "https://localhost:8080/"
    },
    "executionInfo": {
     "elapsed": 8,
     "status": "ok",
     "timestamp": 1632049574893,
     "user": {
      "displayName": "Vineet Patel",
      "photoUrl": "https://lh3.googleusercontent.com/a-/AOh14Gg3orwxVwccrueaulqw9L98IBqGvNH1nEwdwiUP0Q=s64",
      "userId": "07760585287432952056"
     },
     "user_tz": -330
    },
    "id": "XMCOG_YhrJS4",
    "outputId": "99f0c558-fd3e-443a-e510-b79e81ae55c0"
   },
   "outputs": [
    {
     "data": {
      "text/plain": [
       "{'algorithm': 'auto',\n",
       " 'leaf_size': 30,\n",
       " 'metric': 'minkowski',\n",
       " 'metric_params': None,\n",
       " 'n_jobs': None,\n",
       " 'n_neighbors': 5,\n",
       " 'p': 2,\n",
       " 'weights': 'uniform'}"
      ]
     },
     "execution_count": 39,
     "metadata": {},
     "output_type": "execute_result"
    }
   ],
   "source": [
    "from sklearn.neighbors import KNeighborsRegressor\n",
    "KNeighborsRegressor().get_params()"
   ]
  },
  {
   "cell_type": "code",
   "execution_count": 40,
   "metadata": {
    "colab": {
     "base_uri": "https://localhost:8080/"
    },
    "executionInfo": {
     "elapsed": 577478,
     "status": "ok",
     "timestamp": 1632050152369,
     "user": {
      "displayName": "Vineet Patel",
      "photoUrl": "https://lh3.googleusercontent.com/a-/AOh14Gg3orwxVwccrueaulqw9L98IBqGvNH1nEwdwiUP0Q=s64",
      "userId": "07760585287432952056"
     },
     "user_tz": -330
    },
    "id": "7VMEFLVwt5ei",
    "outputId": "93e77f0c-2ea1-4753-ca84-abf2472adb9f"
   },
   "outputs": [
    {
     "name": "stdout",
     "output_type": "stream",
     "text": [
      "Fitting 5 folds for each of 16 candidates, totalling 80 fits\n",
      "\n",
      "\n",
      "Train Accuracy:  0.7660512397745338\n",
      "Validation Accuracy:  0.7158139927463234\n",
      "\n",
      "Train RMSE Error:  8939.938453580167\n",
      "Validation RMSE Error:  9796.640674926484\n"
     ]
    }
   ],
   "source": [
    "param_grid_knn = {'n_neighbors':[3,5,11,29],              \n",
    "              'metric':['euclidean','manhattan'],              \n",
    "              'weights':['uniform','distance']}  \n",
    "grid_knn = GridSearchCV(KNeighborsRegressor(), param_grid_knn, refit = True, verbose = 3,n_jobs=-1) \n",
    "grid_knn.fit(X_train,Y_train) \n",
    "\n",
    "print('\\n')\n",
    "\n",
    "Y2_train_pred = grid_knn.predict(X_train)\n",
    "Y2_valid_pred = grid_knn.predict(X_valid)\n",
    "\n",
    "print(\"Train Accuracy: \",r2_score(Y_train,Y2_train_pred))\n",
    "print(\"Validation Accuracy: \",r2_score(Y_valid,Y2_valid_pred))\n",
    "\n",
    "print('')\n",
    "\n",
    "print(\"Train RMSE Error: \",np.sqrt(mean_squared_error(Y_train,Y2_train_pred)))\n",
    "print(\"Validation RMSE Error: \",np.sqrt(mean_squared_error(Y_valid,Y2_valid_pred)))"
   ]
  },
  {
   "cell_type": "markdown",
   "metadata": {
    "id": "tElyyOlovRRc"
   },
   "source": [
    "## Decision Tree"
   ]
  },
  {
   "cell_type": "code",
   "execution_count": 41,
   "metadata": {
    "colab": {
     "base_uri": "https://localhost:8080/"
    },
    "executionInfo": {
     "elapsed": 19,
     "status": "ok",
     "timestamp": 1632050152369,
     "user": {
      "displayName": "Vineet Patel",
      "photoUrl": "https://lh3.googleusercontent.com/a-/AOh14Gg3orwxVwccrueaulqw9L98IBqGvNH1nEwdwiUP0Q=s64",
      "userId": "07760585287432952056"
     },
     "user_tz": -330
    },
    "id": "zaoPqE-ZurA7",
    "outputId": "82d0f62f-a5b1-45ac-8062-9b0f5274afb5"
   },
   "outputs": [
    {
     "data": {
      "text/plain": [
       "{'ccp_alpha': 0.0,\n",
       " 'criterion': 'squared_error',\n",
       " 'max_depth': None,\n",
       " 'max_features': None,\n",
       " 'max_leaf_nodes': None,\n",
       " 'min_impurity_decrease': 0.0,\n",
       " 'min_samples_leaf': 1,\n",
       " 'min_samples_split': 2,\n",
       " 'min_weight_fraction_leaf': 0.0,\n",
       " 'monotonic_cst': None,\n",
       " 'random_state': None,\n",
       " 'splitter': 'best'}"
      ]
     },
     "execution_count": 41,
     "metadata": {},
     "output_type": "execute_result"
    }
   ],
   "source": [
    "from sklearn.tree import DecisionTreeRegressor\n",
    "DecisionTreeRegressor().get_params()"
   ]
  },
  {
   "cell_type": "code",
   "execution_count": 42,
   "metadata": {
    "colab": {
     "base_uri": "https://localhost:8080/"
    },
    "executionInfo": {
     "elapsed": 681882,
     "status": "ok",
     "timestamp": 1632050834245,
     "user": {
      "displayName": "Vineet Patel",
      "photoUrl": "https://lh3.googleusercontent.com/a-/AOh14Gg3orwxVwccrueaulqw9L98IBqGvNH1nEwdwiUP0Q=s64",
      "userId": "07760585287432952056"
     },
     "user_tz": -330
    },
    "id": "s_kSWv9YDYCF",
    "outputId": "777121cd-5767-478d-8d6a-3bf36a758afb"
   },
   "outputs": [
    {
     "name": "stdout",
     "output_type": "stream",
     "text": [
      "Fitting 5 folds for each of 3840 candidates, totalling 19200 fits\n",
      "\n",
      "\n",
      "Train Accuracy:  0.7660512397745338\n",
      "Validation Accuracy:  0.7158139927463234\n",
      "\n",
      "Train RMSE Error:  8939.938453580167\n",
      "Validation RMSE Error:  9796.640674926484\n"
     ]
    }
   ],
   "source": [
    "param_grid_dt = {\"splitter\":[\"best\",\"random\"],\n",
    "                \"max_depth\" : [1,5,9,12],\n",
    "                \"min_samples_leaf\":[1,3,5,8,10],\n",
    "                \"min_weight_fraction_leaf\":[0.1,0.4,0.7,0.9],\n",
    "                \"max_features\":[\"auto\",\"log2\",\"sqrt\",None],\n",
    "                \"max_leaf_nodes\":[None,10,20,40,70,90] }\n",
    "grid_dt = GridSearchCV(DecisionTreeRegressor(), param_grid_dt, refit = True, verbose = 3,n_jobs=-1) \n",
    "grid_dt.fit(X_train,Y_train) \n",
    "\n",
    "print('\\n')\n",
    "\n",
    "Y3_train_pred = grid_knn.predict(X_train)\n",
    "Y3_valid_pred = grid_knn.predict(X_valid)\n",
    "\n",
    "print(\"Train Accuracy: \",r2_score(Y_train,Y3_train_pred))\n",
    "print(\"Validation Accuracy: \",r2_score(Y_valid,Y3_valid_pred))\n",
    "\n",
    "print('')\n",
    "\n",
    "print(\"Train RMSE Error: \",np.sqrt(mean_squared_error(Y_train,Y3_train_pred)))\n",
    "print(\"Validation RMSE Error: \",np.sqrt(mean_squared_error(Y_valid,Y3_valid_pred)))"
   ]
  },
  {
   "cell_type": "markdown",
   "metadata": {
    "id": "8gsF7Zq86XGj"
   },
   "source": [
    "## Random Forest"
   ]
  },
  {
   "cell_type": "code",
   "execution_count": 43,
   "metadata": {
    "colab": {
     "base_uri": "https://localhost:8080/"
    },
    "executionInfo": {
     "elapsed": 441,
     "status": "ok",
     "timestamp": 1632055648578,
     "user": {
      "displayName": "Vineet Patel",
      "photoUrl": "https://lh3.googleusercontent.com/a-/AOh14Gg3orwxVwccrueaulqw9L98IBqGvNH1nEwdwiUP0Q=s64",
      "userId": "07760585287432952056"
     },
     "user_tz": -330
    },
    "id": "pfIhHH136gKd",
    "outputId": "91d23e89-8a6f-4cd7-ca0e-67f9b0de2f60"
   },
   "outputs": [
    {
     "data": {
      "text/plain": [
       "{'bootstrap': True,\n",
       " 'ccp_alpha': 0.0,\n",
       " 'criterion': 'squared_error',\n",
       " 'max_depth': None,\n",
       " 'max_features': 1.0,\n",
       " 'max_leaf_nodes': None,\n",
       " 'max_samples': None,\n",
       " 'min_impurity_decrease': 0.0,\n",
       " 'min_samples_leaf': 1,\n",
       " 'min_samples_split': 2,\n",
       " 'min_weight_fraction_leaf': 0.0,\n",
       " 'monotonic_cst': None,\n",
       " 'n_estimators': 100,\n",
       " 'n_jobs': None,\n",
       " 'oob_score': False,\n",
       " 'random_state': None,\n",
       " 'verbose': 0,\n",
       " 'warm_start': False}"
      ]
     },
     "execution_count": 43,
     "metadata": {},
     "output_type": "execute_result"
    }
   ],
   "source": [
    "from sklearn.ensemble import RandomForestRegressor\n",
    "RandomForestRegressor().get_params()"
   ]
  },
  {
   "cell_type": "code",
   "execution_count": 44,
   "metadata": {
    "colab": {
     "base_uri": "https://localhost:8080/"
    },
    "executionInfo": {
     "elapsed": 2399029,
     "status": "ok",
     "timestamp": 1632065939747,
     "user": {
      "displayName": "Vineet Patel",
      "photoUrl": "https://lh3.googleusercontent.com/a-/AOh14Gg3orwxVwccrueaulqw9L98IBqGvNH1nEwdwiUP0Q=s64",
      "userId": "07760585287432952056"
     },
     "user_tz": -330
    },
    "id": "TL08w5Uhz4G_",
    "outputId": "4c311c00-b5ea-4b5a-92d3-b7afd6c197a7"
   },
   "outputs": [
    {
     "name": "stdout",
     "output_type": "stream",
     "text": [
      "Fitting 2 folds for each of 1200 candidates, totalling 2400 fits\n",
      "\n",
      "\n",
      "Train Accuracy:  0.4227514984764068\n",
      "Validation Accuracy:  0.422641316354855\n",
      "\n",
      "Train RMSE Error:  14042.859865155659\n",
      "Validation RMSE Error:  13963.641330240493\n"
     ]
    }
   ],
   "source": [
    "param_grid_rf = {\"max_depth\" : [1,5,9,12],\n",
    "                \"min_samples_leaf\":[1,3,5,8,10],\n",
    "                \"min_weight_fraction_leaf\":[0.1,0.4,0.7,0.9],\n",
    "                \"max_features\":[\"auto\",\"log2\",\"sqrt\"],\n",
    "                \"max_leaf_nodes\":[10,20,40,70,90]}\n",
    "\n",
    "grid_rf = GridSearchCV(RandomForestRegressor(), param_grid_rf, refit = True, verbose = 3, n_jobs=-1, cv=2) \n",
    "grid_rf.fit(X_train,Y_train) \n",
    "\n",
    "print('\\n')\n",
    "\n",
    "Y5_train_pred = grid_rf.predict(X_train)\n",
    "Y5_valid_pred = grid_rf.predict(X_valid)\n",
    "\n",
    "print(\"Train Accuracy: \",r2_score(Y_train,Y5_train_pred))\n",
    "print(\"Validation Accuracy: \",r2_score(Y_valid,Y5_valid_pred))\n",
    "\n",
    "print('')\n",
    "\n",
    "print(\"Train RMSE Error: \",np.sqrt(mean_squared_error(Y_train,Y5_train_pred)))\n",
    "print(\"Validation RMSE Error: \",np.sqrt(mean_squared_error(Y_valid,Y5_valid_pred)))"
   ]
  },
  {
   "cell_type": "markdown",
   "metadata": {
    "id": "euGIPhzH8OPk"
   },
   "source": [
    "## XGBoost"
   ]
  },
  {
   "cell_type": "code",
   "execution_count": 45,
   "metadata": {
    "colab": {
     "base_uri": "https://localhost:8080/"
    },
    "executionInfo": {
     "elapsed": 7,
     "status": "ok",
     "timestamp": 1632066126570,
     "user": {
      "displayName": "Vineet Patel",
      "photoUrl": "https://lh3.googleusercontent.com/a-/AOh14Gg3orwxVwccrueaulqw9L98IBqGvNH1nEwdwiUP0Q=s64",
      "userId": "07760585287432952056"
     },
     "user_tz": -330
    },
    "id": "UVtikCRxGj2B",
    "outputId": "18009e26-55fa-42ac-9b43-1da7feb9688c"
   },
   "outputs": [
    {
     "name": "stdout",
     "output_type": "stream",
     "text": [
      "{'objective': 'reg:squarederror', 'base_score': 0.5, 'booster': 'gbtree', 'callbacks': None, 'colsample_bylevel': 1, 'colsample_bynode': 1, 'colsample_bytree': 1, 'device': None, 'early_stopping_rounds': None, 'enable_categorical': False, 'eval_metric': None, 'feature_types': None, 'gamma': 0, 'grow_policy': None, 'importance_type': 'gain', 'interaction_constraints': None, 'learning_rate': 0.1, 'max_bin': None, 'max_cat_threshold': None, 'max_cat_to_onehot': None, 'max_delta_step': 0, 'max_depth': 3, 'max_leaves': None, 'min_child_weight': 1, 'missing': None, 'monotone_constraints': None, 'multi_strategy': None, 'n_estimators': 100, 'n_jobs': 1, 'num_parallel_tree': None, 'random_state': 0, 'reg_alpha': 0, 'reg_lambda': 1, 'sampling_method': None, 'scale_pos_weight': 1, 'subsample': 1, 'tree_method': None, 'validate_parameters': None, 'verbosity': 1}\n"
     ]
    }
   ],
   "source": [
    "from xgboost import XGBRegressor\n",
    "\n",
    "# Instantiate the model with correct syntax\n",
    "model = XGBRegressor(\n",
    "    base_score=0.5,\n",
    "    booster='gbtree',\n",
    "    colsample_bylevel=1,\n",
    "    colsample_bynode=1,\n",
    "    colsample_bytree=1,\n",
    "    gamma=0,\n",
    "    importance_type='gain',\n",
    "    learning_rate=0.1,\n",
    "    max_delta_step=0,\n",
    "    max_depth=3,\n",
    "    min_child_weight=1,\n",
    "    missing=None,\n",
    "    n_estimators=100,\n",
    "    n_jobs=1,\n",
    "    objective='reg:squarederror',  # Updated to the current default for regression\n",
    "    random_state=0,\n",
    "    reg_alpha=0,\n",
    "    reg_lambda=1,\n",
    "    scale_pos_weight=1,\n",
    "    subsample=1,\n",
    "    verbosity=1\n",
    ")\n",
    "\n",
    "# Get the model's hyperparameters\n",
    "params = model.get_params()\n",
    "print(params)\n"
   ]
  },
  {
   "cell_type": "code",
   "execution_count": 46,
   "metadata": {
    "colab": {
     "base_uri": "https://localhost:8080/"
    },
    "executionInfo": {
     "elapsed": 2898840,
     "status": "ok",
     "timestamp": 1632069347619,
     "user": {
      "displayName": "Vineet Patel",
      "photoUrl": "https://lh3.googleusercontent.com/a-/AOh14Gg3orwxVwccrueaulqw9L98IBqGvNH1nEwdwiUP0Q=s64",
      "userId": "07760585287432952056"
     },
     "user_tz": -330
    },
    "id": "g9AL3Zs9uL_b",
    "outputId": "f4a8c492-0b2c-4755-a4cd-dd7cbd110f81"
   },
   "outputs": [
    {
     "name": "stdout",
     "output_type": "stream",
     "text": [
      "Fitting 2 folds for each of 240 candidates, totalling 480 fits\n",
      "\n",
      "\n",
      "Train Accuracy:  0.8820710443647567\n",
      "Validation Accuracy:  0.8331539760896458\n",
      "\n",
      "Train RMSE Error:  6347.232124117165\n",
      "Validation RMSE Error:  7506.435629167132\n"
     ]
    }
   ],
   "source": [
    "param_grid_xb = {\n",
    "  'max_depth':range(3,10,2),\n",
    "  'min_child_weight':range(1,6,2),\n",
    "  # 'gamma':[i/10.0 for i in range(0,5)],\n",
    "  # 'subsample':[i/10.0 for i in range(6,10)],\n",
    "  'colsample_bytree':[i/10.0 for i in range(6,10)],\n",
    "  'reg_alpha':[0, 0.001, 0.005, 0.01, 0.05]\n",
    "}\n",
    "\n",
    "grid_xb = GridSearchCV(XGBRegressor(), param_grid_xb, refit = True, verbose = 3, n_jobs=-1, cv=2) \n",
    "grid_xb.fit(X_train,Y_train) \n",
    "\n",
    "print('\\n')\n",
    "\n",
    "Y6_train_pred = grid_xb.predict(X_train)\n",
    "Y6_valid_pred = grid_xb.predict(X_valid)\n",
    "\n",
    "print(\"Train Accuracy: \",r2_score(Y_train,Y6_train_pred))\n",
    "print(\"Validation Accuracy: \",r2_score(Y_valid,Y6_valid_pred))\n",
    "\n",
    "print('')\n",
    "\n",
    "print(\"Train RMSE Error: \",np.sqrt(mean_squared_error(Y_train,Y6_train_pred)))\n",
    "print(\"Validation RMSE Error: \",np.sqrt(mean_squared_error(Y_valid,Y6_valid_pred)))"
   ]
  },
  {
   "cell_type": "code",
   "execution_count": 47,
   "metadata": {
    "colab": {
     "base_uri": "https://localhost:8080/"
    },
    "executionInfo": {
     "elapsed": 354,
     "status": "ok",
     "timestamp": 1632069533465,
     "user": {
      "displayName": "Vineet Patel",
      "photoUrl": "https://lh3.googleusercontent.com/a-/AOh14Gg3orwxVwccrueaulqw9L98IBqGvNH1nEwdwiUP0Q=s64",
      "userId": "07760585287432952056"
     },
     "user_tz": -330
    },
    "id": "L-Q6xykd7Cvs",
    "outputId": "d39e99f6-bd34-484b-d719-2624d72001fb"
   },
   "outputs": [
    {
     "data": {
      "text/plain": [
       "{'colsample_bytree': 0.6,\n",
       " 'max_depth': 9,\n",
       " 'min_child_weight': 3,\n",
       " 'reg_alpha': 0.05}"
      ]
     },
     "execution_count": 47,
     "metadata": {},
     "output_type": "execute_result"
    }
   ],
   "source": [
    "grid_xb.best_params_"
   ]
  },
  {
   "cell_type": "code",
   "execution_count": 48,
   "metadata": {
    "colab": {
     "base_uri": "https://localhost:8080/"
    },
    "executionInfo": {
     "elapsed": 29738,
     "status": "ok",
     "timestamp": 1632069667528,
     "user": {
      "displayName": "Vineet Patel",
      "photoUrl": "https://lh3.googleusercontent.com/a-/AOh14Gg3orwxVwccrueaulqw9L98IBqGvNH1nEwdwiUP0Q=s64",
      "userId": "07760585287432952056"
     },
     "user_tz": -330
    },
    "id": "UzW_J__i7Mp-",
    "outputId": "b049119a-fc34-4ea1-9ec1-e757b2fcf213"
   },
   "outputs": [
    {
     "data": {
      "text/html": [
       "<style>#sk-container-id-1 {\n",
       "  /* Definition of color scheme common for light and dark mode */\n",
       "  --sklearn-color-text: black;\n",
       "  --sklearn-color-line: gray;\n",
       "  /* Definition of color scheme for unfitted estimators */\n",
       "  --sklearn-color-unfitted-level-0: #fff5e6;\n",
       "  --sklearn-color-unfitted-level-1: #f6e4d2;\n",
       "  --sklearn-color-unfitted-level-2: #ffe0b3;\n",
       "  --sklearn-color-unfitted-level-3: chocolate;\n",
       "  /* Definition of color scheme for fitted estimators */\n",
       "  --sklearn-color-fitted-level-0: #f0f8ff;\n",
       "  --sklearn-color-fitted-level-1: #d4ebff;\n",
       "  --sklearn-color-fitted-level-2: #b3dbfd;\n",
       "  --sklearn-color-fitted-level-3: cornflowerblue;\n",
       "\n",
       "  /* Specific color for light theme */\n",
       "  --sklearn-color-text-on-default-background: var(--sg-text-color, var(--theme-code-foreground, var(--jp-content-font-color1, black)));\n",
       "  --sklearn-color-background: var(--sg-background-color, var(--theme-background, var(--jp-layout-color0, white)));\n",
       "  --sklearn-color-border-box: var(--sg-text-color, var(--theme-code-foreground, var(--jp-content-font-color1, black)));\n",
       "  --sklearn-color-icon: #696969;\n",
       "\n",
       "  @media (prefers-color-scheme: dark) {\n",
       "    /* Redefinition of color scheme for dark theme */\n",
       "    --sklearn-color-text-on-default-background: var(--sg-text-color, var(--theme-code-foreground, var(--jp-content-font-color1, white)));\n",
       "    --sklearn-color-background: var(--sg-background-color, var(--theme-background, var(--jp-layout-color0, #111)));\n",
       "    --sklearn-color-border-box: var(--sg-text-color, var(--theme-code-foreground, var(--jp-content-font-color1, white)));\n",
       "    --sklearn-color-icon: #878787;\n",
       "  }\n",
       "}\n",
       "\n",
       "#sk-container-id-1 {\n",
       "  color: var(--sklearn-color-text);\n",
       "}\n",
       "\n",
       "#sk-container-id-1 pre {\n",
       "  padding: 0;\n",
       "}\n",
       "\n",
       "#sk-container-id-1 input.sk-hidden--visually {\n",
       "  border: 0;\n",
       "  clip: rect(1px 1px 1px 1px);\n",
       "  clip: rect(1px, 1px, 1px, 1px);\n",
       "  height: 1px;\n",
       "  margin: -1px;\n",
       "  overflow: hidden;\n",
       "  padding: 0;\n",
       "  position: absolute;\n",
       "  width: 1px;\n",
       "}\n",
       "\n",
       "#sk-container-id-1 div.sk-dashed-wrapped {\n",
       "  border: 1px dashed var(--sklearn-color-line);\n",
       "  margin: 0 0.4em 0.5em 0.4em;\n",
       "  box-sizing: border-box;\n",
       "  padding-bottom: 0.4em;\n",
       "  background-color: var(--sklearn-color-background);\n",
       "}\n",
       "\n",
       "#sk-container-id-1 div.sk-container {\n",
       "  /* jupyter's `normalize.less` sets `[hidden] { display: none; }`\n",
       "     but bootstrap.min.css set `[hidden] { display: none !important; }`\n",
       "     so we also need the `!important` here to be able to override the\n",
       "     default hidden behavior on the sphinx rendered scikit-learn.org.\n",
       "     See: https://github.com/scikit-learn/scikit-learn/issues/21755 */\n",
       "  display: inline-block !important;\n",
       "  position: relative;\n",
       "}\n",
       "\n",
       "#sk-container-id-1 div.sk-text-repr-fallback {\n",
       "  display: none;\n",
       "}\n",
       "\n",
       "div.sk-parallel-item,\n",
       "div.sk-serial,\n",
       "div.sk-item {\n",
       "  /* draw centered vertical line to link estimators */\n",
       "  background-image: linear-gradient(var(--sklearn-color-text-on-default-background), var(--sklearn-color-text-on-default-background));\n",
       "  background-size: 2px 100%;\n",
       "  background-repeat: no-repeat;\n",
       "  background-position: center center;\n",
       "}\n",
       "\n",
       "/* Parallel-specific style estimator block */\n",
       "\n",
       "#sk-container-id-1 div.sk-parallel-item::after {\n",
       "  content: \"\";\n",
       "  width: 100%;\n",
       "  border-bottom: 2px solid var(--sklearn-color-text-on-default-background);\n",
       "  flex-grow: 1;\n",
       "}\n",
       "\n",
       "#sk-container-id-1 div.sk-parallel {\n",
       "  display: flex;\n",
       "  align-items: stretch;\n",
       "  justify-content: center;\n",
       "  background-color: var(--sklearn-color-background);\n",
       "  position: relative;\n",
       "}\n",
       "\n",
       "#sk-container-id-1 div.sk-parallel-item {\n",
       "  display: flex;\n",
       "  flex-direction: column;\n",
       "}\n",
       "\n",
       "#sk-container-id-1 div.sk-parallel-item:first-child::after {\n",
       "  align-self: flex-end;\n",
       "  width: 50%;\n",
       "}\n",
       "\n",
       "#sk-container-id-1 div.sk-parallel-item:last-child::after {\n",
       "  align-self: flex-start;\n",
       "  width: 50%;\n",
       "}\n",
       "\n",
       "#sk-container-id-1 div.sk-parallel-item:only-child::after {\n",
       "  width: 0;\n",
       "}\n",
       "\n",
       "/* Serial-specific style estimator block */\n",
       "\n",
       "#sk-container-id-1 div.sk-serial {\n",
       "  display: flex;\n",
       "  flex-direction: column;\n",
       "  align-items: center;\n",
       "  background-color: var(--sklearn-color-background);\n",
       "  padding-right: 1em;\n",
       "  padding-left: 1em;\n",
       "}\n",
       "\n",
       "\n",
       "/* Toggleable style: style used for estimator/Pipeline/ColumnTransformer box that is\n",
       "clickable and can be expanded/collapsed.\n",
       "- Pipeline and ColumnTransformer use this feature and define the default style\n",
       "- Estimators will overwrite some part of the style using the `sk-estimator` class\n",
       "*/\n",
       "\n",
       "/* Pipeline and ColumnTransformer style (default) */\n",
       "\n",
       "#sk-container-id-1 div.sk-toggleable {\n",
       "  /* Default theme specific background. It is overwritten whether we have a\n",
       "  specific estimator or a Pipeline/ColumnTransformer */\n",
       "  background-color: var(--sklearn-color-background);\n",
       "}\n",
       "\n",
       "/* Toggleable label */\n",
       "#sk-container-id-1 label.sk-toggleable__label {\n",
       "  cursor: pointer;\n",
       "  display: block;\n",
       "  width: 100%;\n",
       "  margin-bottom: 0;\n",
       "  padding: 0.5em;\n",
       "  box-sizing: border-box;\n",
       "  text-align: center;\n",
       "}\n",
       "\n",
       "#sk-container-id-1 label.sk-toggleable__label-arrow:before {\n",
       "  /* Arrow on the left of the label */\n",
       "  content: \"▸\";\n",
       "  float: left;\n",
       "  margin-right: 0.25em;\n",
       "  color: var(--sklearn-color-icon);\n",
       "}\n",
       "\n",
       "#sk-container-id-1 label.sk-toggleable__label-arrow:hover:before {\n",
       "  color: var(--sklearn-color-text);\n",
       "}\n",
       "\n",
       "/* Toggleable content - dropdown */\n",
       "\n",
       "#sk-container-id-1 div.sk-toggleable__content {\n",
       "  max-height: 0;\n",
       "  max-width: 0;\n",
       "  overflow: hidden;\n",
       "  text-align: left;\n",
       "  /* unfitted */\n",
       "  background-color: var(--sklearn-color-unfitted-level-0);\n",
       "}\n",
       "\n",
       "#sk-container-id-1 div.sk-toggleable__content.fitted {\n",
       "  /* fitted */\n",
       "  background-color: var(--sklearn-color-fitted-level-0);\n",
       "}\n",
       "\n",
       "#sk-container-id-1 div.sk-toggleable__content pre {\n",
       "  margin: 0.2em;\n",
       "  border-radius: 0.25em;\n",
       "  color: var(--sklearn-color-text);\n",
       "  /* unfitted */\n",
       "  background-color: var(--sklearn-color-unfitted-level-0);\n",
       "}\n",
       "\n",
       "#sk-container-id-1 div.sk-toggleable__content.fitted pre {\n",
       "  /* unfitted */\n",
       "  background-color: var(--sklearn-color-fitted-level-0);\n",
       "}\n",
       "\n",
       "#sk-container-id-1 input.sk-toggleable__control:checked~div.sk-toggleable__content {\n",
       "  /* Expand drop-down */\n",
       "  max-height: 200px;\n",
       "  max-width: 100%;\n",
       "  overflow: auto;\n",
       "}\n",
       "\n",
       "#sk-container-id-1 input.sk-toggleable__control:checked~label.sk-toggleable__label-arrow:before {\n",
       "  content: \"▾\";\n",
       "}\n",
       "\n",
       "/* Pipeline/ColumnTransformer-specific style */\n",
       "\n",
       "#sk-container-id-1 div.sk-label input.sk-toggleable__control:checked~label.sk-toggleable__label {\n",
       "  color: var(--sklearn-color-text);\n",
       "  background-color: var(--sklearn-color-unfitted-level-2);\n",
       "}\n",
       "\n",
       "#sk-container-id-1 div.sk-label.fitted input.sk-toggleable__control:checked~label.sk-toggleable__label {\n",
       "  background-color: var(--sklearn-color-fitted-level-2);\n",
       "}\n",
       "\n",
       "/* Estimator-specific style */\n",
       "\n",
       "/* Colorize estimator box */\n",
       "#sk-container-id-1 div.sk-estimator input.sk-toggleable__control:checked~label.sk-toggleable__label {\n",
       "  /* unfitted */\n",
       "  background-color: var(--sklearn-color-unfitted-level-2);\n",
       "}\n",
       "\n",
       "#sk-container-id-1 div.sk-estimator.fitted input.sk-toggleable__control:checked~label.sk-toggleable__label {\n",
       "  /* fitted */\n",
       "  background-color: var(--sklearn-color-fitted-level-2);\n",
       "}\n",
       "\n",
       "#sk-container-id-1 div.sk-label label.sk-toggleable__label,\n",
       "#sk-container-id-1 div.sk-label label {\n",
       "  /* The background is the default theme color */\n",
       "  color: var(--sklearn-color-text-on-default-background);\n",
       "}\n",
       "\n",
       "/* On hover, darken the color of the background */\n",
       "#sk-container-id-1 div.sk-label:hover label.sk-toggleable__label {\n",
       "  color: var(--sklearn-color-text);\n",
       "  background-color: var(--sklearn-color-unfitted-level-2);\n",
       "}\n",
       "\n",
       "/* Label box, darken color on hover, fitted */\n",
       "#sk-container-id-1 div.sk-label.fitted:hover label.sk-toggleable__label.fitted {\n",
       "  color: var(--sklearn-color-text);\n",
       "  background-color: var(--sklearn-color-fitted-level-2);\n",
       "}\n",
       "\n",
       "/* Estimator label */\n",
       "\n",
       "#sk-container-id-1 div.sk-label label {\n",
       "  font-family: monospace;\n",
       "  font-weight: bold;\n",
       "  display: inline-block;\n",
       "  line-height: 1.2em;\n",
       "}\n",
       "\n",
       "#sk-container-id-1 div.sk-label-container {\n",
       "  text-align: center;\n",
       "}\n",
       "\n",
       "/* Estimator-specific */\n",
       "#sk-container-id-1 div.sk-estimator {\n",
       "  font-family: monospace;\n",
       "  border: 1px dotted var(--sklearn-color-border-box);\n",
       "  border-radius: 0.25em;\n",
       "  box-sizing: border-box;\n",
       "  margin-bottom: 0.5em;\n",
       "  /* unfitted */\n",
       "  background-color: var(--sklearn-color-unfitted-level-0);\n",
       "}\n",
       "\n",
       "#sk-container-id-1 div.sk-estimator.fitted {\n",
       "  /* fitted */\n",
       "  background-color: var(--sklearn-color-fitted-level-0);\n",
       "}\n",
       "\n",
       "/* on hover */\n",
       "#sk-container-id-1 div.sk-estimator:hover {\n",
       "  /* unfitted */\n",
       "  background-color: var(--sklearn-color-unfitted-level-2);\n",
       "}\n",
       "\n",
       "#sk-container-id-1 div.sk-estimator.fitted:hover {\n",
       "  /* fitted */\n",
       "  background-color: var(--sklearn-color-fitted-level-2);\n",
       "}\n",
       "\n",
       "/* Specification for estimator info (e.g. \"i\" and \"?\") */\n",
       "\n",
       "/* Common style for \"i\" and \"?\" */\n",
       "\n",
       ".sk-estimator-doc-link,\n",
       "a:link.sk-estimator-doc-link,\n",
       "a:visited.sk-estimator-doc-link {\n",
       "  float: right;\n",
       "  font-size: smaller;\n",
       "  line-height: 1em;\n",
       "  font-family: monospace;\n",
       "  background-color: var(--sklearn-color-background);\n",
       "  border-radius: 1em;\n",
       "  height: 1em;\n",
       "  width: 1em;\n",
       "  text-decoration: none !important;\n",
       "  margin-left: 1ex;\n",
       "  /* unfitted */\n",
       "  border: var(--sklearn-color-unfitted-level-1) 1pt solid;\n",
       "  color: var(--sklearn-color-unfitted-level-1);\n",
       "}\n",
       "\n",
       ".sk-estimator-doc-link.fitted,\n",
       "a:link.sk-estimator-doc-link.fitted,\n",
       "a:visited.sk-estimator-doc-link.fitted {\n",
       "  /* fitted */\n",
       "  border: var(--sklearn-color-fitted-level-1) 1pt solid;\n",
       "  color: var(--sklearn-color-fitted-level-1);\n",
       "}\n",
       "\n",
       "/* On hover */\n",
       "div.sk-estimator:hover .sk-estimator-doc-link:hover,\n",
       ".sk-estimator-doc-link:hover,\n",
       "div.sk-label-container:hover .sk-estimator-doc-link:hover,\n",
       ".sk-estimator-doc-link:hover {\n",
       "  /* unfitted */\n",
       "  background-color: var(--sklearn-color-unfitted-level-3);\n",
       "  color: var(--sklearn-color-background);\n",
       "  text-decoration: none;\n",
       "}\n",
       "\n",
       "div.sk-estimator.fitted:hover .sk-estimator-doc-link.fitted:hover,\n",
       ".sk-estimator-doc-link.fitted:hover,\n",
       "div.sk-label-container:hover .sk-estimator-doc-link.fitted:hover,\n",
       ".sk-estimator-doc-link.fitted:hover {\n",
       "  /* fitted */\n",
       "  background-color: var(--sklearn-color-fitted-level-3);\n",
       "  color: var(--sklearn-color-background);\n",
       "  text-decoration: none;\n",
       "}\n",
       "\n",
       "/* Span, style for the box shown on hovering the info icon */\n",
       ".sk-estimator-doc-link span {\n",
       "  display: none;\n",
       "  z-index: 9999;\n",
       "  position: relative;\n",
       "  font-weight: normal;\n",
       "  right: .2ex;\n",
       "  padding: .5ex;\n",
       "  margin: .5ex;\n",
       "  width: min-content;\n",
       "  min-width: 20ex;\n",
       "  max-width: 50ex;\n",
       "  color: var(--sklearn-color-text);\n",
       "  box-shadow: 2pt 2pt 4pt #999;\n",
       "  /* unfitted */\n",
       "  background: var(--sklearn-color-unfitted-level-0);\n",
       "  border: .5pt solid var(--sklearn-color-unfitted-level-3);\n",
       "}\n",
       "\n",
       ".sk-estimator-doc-link.fitted span {\n",
       "  /* fitted */\n",
       "  background: var(--sklearn-color-fitted-level-0);\n",
       "  border: var(--sklearn-color-fitted-level-3);\n",
       "}\n",
       "\n",
       ".sk-estimator-doc-link:hover span {\n",
       "  display: block;\n",
       "}\n",
       "\n",
       "/* \"?\"-specific style due to the `<a>` HTML tag */\n",
       "\n",
       "#sk-container-id-1 a.estimator_doc_link {\n",
       "  float: right;\n",
       "  font-size: 1rem;\n",
       "  line-height: 1em;\n",
       "  font-family: monospace;\n",
       "  background-color: var(--sklearn-color-background);\n",
       "  border-radius: 1rem;\n",
       "  height: 1rem;\n",
       "  width: 1rem;\n",
       "  text-decoration: none;\n",
       "  /* unfitted */\n",
       "  color: var(--sklearn-color-unfitted-level-1);\n",
       "  border: var(--sklearn-color-unfitted-level-1) 1pt solid;\n",
       "}\n",
       "\n",
       "#sk-container-id-1 a.estimator_doc_link.fitted {\n",
       "  /* fitted */\n",
       "  border: var(--sklearn-color-fitted-level-1) 1pt solid;\n",
       "  color: var(--sklearn-color-fitted-level-1);\n",
       "}\n",
       "\n",
       "/* On hover */\n",
       "#sk-container-id-1 a.estimator_doc_link:hover {\n",
       "  /* unfitted */\n",
       "  background-color: var(--sklearn-color-unfitted-level-3);\n",
       "  color: var(--sklearn-color-background);\n",
       "  text-decoration: none;\n",
       "}\n",
       "\n",
       "#sk-container-id-1 a.estimator_doc_link.fitted:hover {\n",
       "  /* fitted */\n",
       "  background-color: var(--sklearn-color-fitted-level-3);\n",
       "}\n",
       "</style><div id=\"sk-container-id-1\" class=\"sk-top-container\"><div class=\"sk-text-repr-fallback\"><pre>XGBRegressor(base_score=None, booster=None, callbacks=None,\n",
       "             colsample_bylevel=None, colsample_bynode=None,\n",
       "             colsample_bytree=0.8, device=None, early_stopping_rounds=None,\n",
       "             enable_categorical=False, eval_metric=None, feature_types=None,\n",
       "             gamma=None, grow_policy=None, importance_type=None,\n",
       "             interaction_constraints=None, learning_rate=None, max_bin=None,\n",
       "             max_cat_threshold=None, max_cat_to_onehot=None,\n",
       "             max_delta_step=None, max_depth=9, max_leaves=None,\n",
       "             min_child_weight=5, missing=nan, monotone_constraints=None,\n",
       "             multi_strategy=None, n_estimators=None, n_jobs=None,\n",
       "             num_parallel_tree=None, random_state=None, ...)</pre><b>In a Jupyter environment, please rerun this cell to show the HTML representation or trust the notebook. <br />On GitHub, the HTML representation is unable to render, please try loading this page with nbviewer.org.</b></div><div class=\"sk-container\" hidden><div class=\"sk-item\"><div class=\"sk-estimator fitted sk-toggleable\"><input class=\"sk-toggleable__control sk-hidden--visually\" id=\"sk-estimator-id-1\" type=\"checkbox\" checked><label for=\"sk-estimator-id-1\" class=\"sk-toggleable__label fitted sk-toggleable__label-arrow fitted\">&nbsp;XGBRegressor<span class=\"sk-estimator-doc-link fitted\">i<span>Fitted</span></span></label><div class=\"sk-toggleable__content fitted\"><pre>XGBRegressor(base_score=None, booster=None, callbacks=None,\n",
       "             colsample_bylevel=None, colsample_bynode=None,\n",
       "             colsample_bytree=0.8, device=None, early_stopping_rounds=None,\n",
       "             enable_categorical=False, eval_metric=None, feature_types=None,\n",
       "             gamma=None, grow_policy=None, importance_type=None,\n",
       "             interaction_constraints=None, learning_rate=None, max_bin=None,\n",
       "             max_cat_threshold=None, max_cat_to_onehot=None,\n",
       "             max_delta_step=None, max_depth=9, max_leaves=None,\n",
       "             min_child_weight=5, missing=nan, monotone_constraints=None,\n",
       "             multi_strategy=None, n_estimators=None, n_jobs=None,\n",
       "             num_parallel_tree=None, random_state=None, ...)</pre></div> </div></div></div></div>"
      ],
      "text/plain": [
       "XGBRegressor(base_score=None, booster=None, callbacks=None,\n",
       "             colsample_bylevel=None, colsample_bynode=None,\n",
       "             colsample_bytree=0.8, device=None, early_stopping_rounds=None,\n",
       "             enable_categorical=False, eval_metric=None, feature_types=None,\n",
       "             gamma=None, grow_policy=None, importance_type=None,\n",
       "             interaction_constraints=None, learning_rate=None, max_bin=None,\n",
       "             max_cat_threshold=None, max_cat_to_onehot=None,\n",
       "             max_delta_step=None, max_depth=9, max_leaves=None,\n",
       "             min_child_weight=5, missing=nan, monotone_constraints=None,\n",
       "             multi_strategy=None, n_estimators=None, n_jobs=None,\n",
       "             num_parallel_tree=None, random_state=None, ...)"
      ]
     },
     "execution_count": 48,
     "metadata": {},
     "output_type": "execute_result"
    }
   ],
   "source": [
    "xgb = XGBRegressor(colsample_bytree= 0.8, max_depth= 9, min_child_weight= 5, reg_alpha= 0)\n",
    "xgb.fit(scaled_train_X,train_Y)"
   ]
  },
  {
   "cell_type": "code",
   "execution_count": 49,
   "metadata": {
    "colab": {
     "base_uri": "https://localhost:8080/"
    },
    "executionInfo": {
     "elapsed": 1032,
     "status": "ok",
     "timestamp": 1632069836416,
     "user": {
      "displayName": "Vineet Patel",
      "photoUrl": "https://lh3.googleusercontent.com/a-/AOh14Gg3orwxVwccrueaulqw9L98IBqGvNH1nEwdwiUP0Q=s64",
      "userId": "07760585287432952056"
     },
     "user_tz": -330
    },
    "id": "XvXcD1Iou1gq",
    "outputId": "981cf7fb-bc0a-4dbc-874b-a96c60a72271"
   },
   "outputs": [
    {
     "data": {
      "text/plain": [
       "array([53672.93 , 32733.867, 73337.94 , ..., 47588.88 , 29169.777,\n",
       "       28663.523], dtype=float32)"
      ]
     },
     "execution_count": 49,
     "metadata": {},
     "output_type": "execute_result"
    }
   ],
   "source": [
    "Y_test_pred = xgb.predict(scaled_test_X)\n",
    "pd.concat([test_df_cpy['ID'],pd.DataFrame(Y_test_pred,columns=['Sales'])],axis=1).to_csv('Submission.csv',index=False)\n",
    "Y_test_pred"
   ]
  },
  {
   "cell_type": "code",
   "execution_count": null,
   "metadata": {},
   "outputs": [],
   "source": [
    "\n"
   ]
  }
 ],
 "metadata": {
  "accelerator": "TPU",
  "colab": {
   "authorship_tag": "ABX9TyORBtDFehrQyLo8EkkjWijP",
   "collapsed_sections": [
    "DVzVYCk8vLok",
    "t8OetcqWvOTh",
    "tElyyOlovRRc",
    "oFa300Vm6UdS"
   ],
   "mount_file_id": "1wcQFXLts21uJbnyA0yOKmTcLfBPW_pHT",
   "name": "Supplement Sales Prediction.ipynb",
   "provenance": []
  },
  "kernelspec": {
   "display_name": "Python 3 (ipykernel)",
   "language": "python",
   "name": "python3"
  },
  "language_info": {
   "codemirror_mode": {
    "name": "ipython",
    "version": 3
   },
   "file_extension": ".py",
   "mimetype": "text/x-python",
   "name": "python",
   "nbconvert_exporter": "python",
   "pygments_lexer": "ipython3",
   "version": "3.10.9"
  }
 },
 "nbformat": 4,
 "nbformat_minor": 4
}
